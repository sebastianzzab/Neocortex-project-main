{
 "cells": [
  {
   "cell_type": "markdown",
   "metadata": {},
   "source": [
    "# Análisis de ventas de vehículos de segunda mano"
   ]
  },
  {
   "cell_type": "markdown",
   "metadata": {},
   "source": [
    "Para nuestro proyecto, decidimos hacer un analisis de los datos de publicaciones de ventas de autos usados en toda España"
   ]
  },
  {
   "cell_type": "code",
   "execution_count": null,
   "metadata": {},
   "outputs": [],
   "source": [
    "import pandas as pd\n",
    "import numpy as np\n",
    "import matplotlib.pyplot as plt\n",
    "import seaborn as sns\n",
    "df = pd.read_csv('coches-de-segunda-mano-sample.csv')\n"
   ]
  },
  {
   "cell_type": "code",
   "execution_count": 11,
   "metadata": {},
   "outputs": [
    {
     "data": {
      "text/html": [
       "<div>\n",
       "<style scoped>\n",
       "    .dataframe tbody tr th:only-of-type {\n",
       "        vertical-align: middle;\n",
       "    }\n",
       "\n",
       "    .dataframe tbody tr th {\n",
       "        vertical-align: top;\n",
       "    }\n",
       "\n",
       "    .dataframe thead th {\n",
       "        text-align: right;\n",
       "    }\n",
       "</style>\n",
       "<table border=\"1\" class=\"dataframe\">\n",
       "  <thead>\n",
       "    <tr style=\"text-align: right;\">\n",
       "      <th></th>\n",
       "      <th>url</th>\n",
       "      <th>company</th>\n",
       "      <th>make</th>\n",
       "      <th>model</th>\n",
       "      <th>version</th>\n",
       "      <th>price</th>\n",
       "      <th>price_financed</th>\n",
       "      <th>fuel</th>\n",
       "      <th>year</th>\n",
       "      <th>kms</th>\n",
       "      <th>...</th>\n",
       "      <th>doors</th>\n",
       "      <th>shift</th>\n",
       "      <th>color</th>\n",
       "      <th>photos</th>\n",
       "      <th>is_professional</th>\n",
       "      <th>dealer</th>\n",
       "      <th>province</th>\n",
       "      <th>country</th>\n",
       "      <th>publish_date</th>\n",
       "      <th>insert_date</th>\n",
       "    </tr>\n",
       "  </thead>\n",
       "  <tbody>\n",
       "    <tr>\n",
       "      <th>0</th>\n",
       "      <td>e158ae0ca53119ca199c28c36b5c2fcd</td>\n",
       "      <td>9881bcdd5a0ad4733037b3fb25e69c3a</td>\n",
       "      <td>SEAT</td>\n",
       "      <td>Toledo</td>\n",
       "      <td>SEAT Toledo  4p.</td>\n",
       "      <td>950</td>\n",
       "      <td>NaN</td>\n",
       "      <td>Diésel</td>\n",
       "      <td>2000.0</td>\n",
       "      <td>227000</td>\n",
       "      <td>...</td>\n",
       "      <td>4</td>\n",
       "      <td>Manual</td>\n",
       "      <td>Verde</td>\n",
       "      <td>5</td>\n",
       "      <td>False</td>\n",
       "      <td>0f4bb8455d27349b8273109b66a847f3</td>\n",
       "      <td>Navarra</td>\n",
       "      <td>Spain</td>\n",
       "      <td>2020-12-18 10:47:13</td>\n",
       "      <td>2021-01-15 00:00:00</td>\n",
       "    </tr>\n",
       "    <tr>\n",
       "      <th>1</th>\n",
       "      <td>ff267ebb7e700246f47f84f3db660b4b</td>\n",
       "      <td>9881bcdd5a0ad4733037b3fb25e69c3a</td>\n",
       "      <td>CITROEN</td>\n",
       "      <td>C1</td>\n",
       "      <td>CITROEN C1 PureTech 60KW 82CV Feel 5p.</td>\n",
       "      <td>6200</td>\n",
       "      <td>NaN</td>\n",
       "      <td>Gasolina</td>\n",
       "      <td>2017.0</td>\n",
       "      <td>50071</td>\n",
       "      <td>...</td>\n",
       "      <td>5</td>\n",
       "      <td>Manual</td>\n",
       "      <td>Blanco</td>\n",
       "      <td>6</td>\n",
       "      <td>True</td>\n",
       "      <td>Autos Raymara</td>\n",
       "      <td>Tenerife</td>\n",
       "      <td>Spain</td>\n",
       "      <td>2021-01-02 11:25:40</td>\n",
       "      <td>2021-01-15 00:00:00</td>\n",
       "    </tr>\n",
       "    <tr>\n",
       "      <th>2</th>\n",
       "      <td>de4b02db28ea7786c622b969be10c7c7</td>\n",
       "      <td>9881bcdd5a0ad4733037b3fb25e69c3a</td>\n",
       "      <td>FORD</td>\n",
       "      <td>Transit Connect</td>\n",
       "      <td>FORD Transit Connect Van 1.5 TDCi 100cv Ambien...</td>\n",
       "      <td>7851</td>\n",
       "      <td>7024.0</td>\n",
       "      <td>Diésel</td>\n",
       "      <td>2016.0</td>\n",
       "      <td>103000</td>\n",
       "      <td>...</td>\n",
       "      <td>4</td>\n",
       "      <td>Manual</td>\n",
       "      <td>Blanco</td>\n",
       "      <td>10</td>\n",
       "      <td>True</td>\n",
       "      <td>Auto 96</td>\n",
       "      <td>Barcelona</td>\n",
       "      <td>Spain</td>\n",
       "      <td>2020-12-16 10:51:45</td>\n",
       "      <td>2021-01-15 00:00:00</td>\n",
       "    </tr>\n",
       "    <tr>\n",
       "      <th>3</th>\n",
       "      <td>0449972a4d07594acf92e9a7dd28b39c</td>\n",
       "      <td>9881bcdd5a0ad4733037b3fb25e69c3a</td>\n",
       "      <td>VOLKSWAGEN</td>\n",
       "      <td>Caravelle</td>\n",
       "      <td>VOLKSWAGEN Caravelle Largo 2.0 TDI 140 Comfort...</td>\n",
       "      <td>19426</td>\n",
       "      <td>NaN</td>\n",
       "      <td>Diésel</td>\n",
       "      <td>2014.0</td>\n",
       "      <td>120000</td>\n",
       "      <td>...</td>\n",
       "      <td>4</td>\n",
       "      <td>Manual</td>\n",
       "      <td>Blanco</td>\n",
       "      <td>9</td>\n",
       "      <td>True</td>\n",
       "      <td>Inniauto</td>\n",
       "      <td>Navarra</td>\n",
       "      <td>Spain</td>\n",
       "      <td>2020-11-25 11:09:14</td>\n",
       "      <td>2021-01-15 00:00:00</td>\n",
       "    </tr>\n",
       "    <tr>\n",
       "      <th>4</th>\n",
       "      <td>12c4fa49bd4fdf23f19ecf396d3f02ef</td>\n",
       "      <td>9881bcdd5a0ad4733037b3fb25e69c3a</td>\n",
       "      <td>FORD</td>\n",
       "      <td>Transit</td>\n",
       "      <td>FORD Transit 350 96kW L4 Ambiente Propulsion T...</td>\n",
       "      <td>22850</td>\n",
       "      <td>22800.0</td>\n",
       "      <td>Diésel</td>\n",
       "      <td>2017.0</td>\n",
       "      <td>107000</td>\n",
       "      <td>...</td>\n",
       "      <td>2</td>\n",
       "      <td>Manual</td>\n",
       "      <td>Blanco</td>\n",
       "      <td>4</td>\n",
       "      <td>True</td>\n",
       "      <td>Autofleet España,s.l</td>\n",
       "      <td>Sevilla</td>\n",
       "      <td>Spain</td>\n",
       "      <td>2021-01-12 20:00:34</td>\n",
       "      <td>2021-01-15 00:00:00</td>\n",
       "    </tr>\n",
       "  </tbody>\n",
       "</table>\n",
       "<p>5 rows × 21 columns</p>\n",
       "</div>"
      ],
      "text/plain": [
       "                                url                           company  \\\n",
       "0  e158ae0ca53119ca199c28c36b5c2fcd  9881bcdd5a0ad4733037b3fb25e69c3a   \n",
       "1  ff267ebb7e700246f47f84f3db660b4b  9881bcdd5a0ad4733037b3fb25e69c3a   \n",
       "2  de4b02db28ea7786c622b969be10c7c7  9881bcdd5a0ad4733037b3fb25e69c3a   \n",
       "3  0449972a4d07594acf92e9a7dd28b39c  9881bcdd5a0ad4733037b3fb25e69c3a   \n",
       "4  12c4fa49bd4fdf23f19ecf396d3f02ef  9881bcdd5a0ad4733037b3fb25e69c3a   \n",
       "\n",
       "         make            model  \\\n",
       "0        SEAT           Toledo   \n",
       "1     CITROEN               C1   \n",
       "2        FORD  Transit Connect   \n",
       "3  VOLKSWAGEN        Caravelle   \n",
       "4        FORD          Transit   \n",
       "\n",
       "                                             version  price  price_financed  \\\n",
       "0                                   SEAT Toledo  4p.    950             NaN   \n",
       "1             CITROEN C1 PureTech 60KW 82CV Feel 5p.   6200             NaN   \n",
       "2  FORD Transit Connect Van 1.5 TDCi 100cv Ambien...   7851          7024.0   \n",
       "3  VOLKSWAGEN Caravelle Largo 2.0 TDI 140 Comfort...  19426             NaN   \n",
       "4  FORD Transit 350 96kW L4 Ambiente Propulsion T...  22850         22800.0   \n",
       "\n",
       "       fuel    year     kms  ...  doors   shift   color photos  \\\n",
       "0    Diésel  2000.0  227000  ...      4  Manual   Verde      5   \n",
       "1  Gasolina  2017.0   50071  ...      5  Manual  Blanco      6   \n",
       "2    Diésel  2016.0  103000  ...      4  Manual  Blanco     10   \n",
       "3    Diésel  2014.0  120000  ...      4  Manual  Blanco      9   \n",
       "4    Diésel  2017.0  107000  ...      2  Manual  Blanco      4   \n",
       "\n",
       "   is_professional                            dealer   province country  \\\n",
       "0            False  0f4bb8455d27349b8273109b66a847f3    Navarra   Spain   \n",
       "1             True                     Autos Raymara   Tenerife   Spain   \n",
       "2             True                           Auto 96  Barcelona   Spain   \n",
       "3             True                          Inniauto    Navarra   Spain   \n",
       "4             True              Autofleet España,s.l    Sevilla   Spain   \n",
       "\n",
       "          publish_date          insert_date  \n",
       "0  2020-12-18 10:47:13  2021-01-15 00:00:00  \n",
       "1  2021-01-02 11:25:40  2021-01-15 00:00:00  \n",
       "2  2020-12-16 10:51:45  2021-01-15 00:00:00  \n",
       "3  2020-11-25 11:09:14  2021-01-15 00:00:00  \n",
       "4  2021-01-12 20:00:34  2021-01-15 00:00:00  \n",
       "\n",
       "[5 rows x 21 columns]"
      ]
     },
     "execution_count": 11,
     "metadata": {},
     "output_type": "execute_result"
    }
   ],
   "source": [
    "df.head()"
   ]
  },
  {
   "cell_type": "markdown",
   "metadata": {},
   "source": [
    "# Preprocesamiento\n",
    "Primero, eliminamos las columnas que no usaremos para acelerar el computo y reducir la cantidad de memoria utilizada"
   ]
  },
  {
   "cell_type": "code",
   "execution_count": 12,
   "metadata": {},
   "outputs": [
    {
     "data": {
      "text/html": [
       "<div>\n",
       "<style scoped>\n",
       "    .dataframe tbody tr th:only-of-type {\n",
       "        vertical-align: middle;\n",
       "    }\n",
       "\n",
       "    .dataframe tbody tr th {\n",
       "        vertical-align: top;\n",
       "    }\n",
       "\n",
       "    .dataframe thead th {\n",
       "        text-align: right;\n",
       "    }\n",
       "</style>\n",
       "<table border=\"1\" class=\"dataframe\">\n",
       "  <thead>\n",
       "    <tr style=\"text-align: right;\">\n",
       "      <th></th>\n",
       "      <th>make</th>\n",
       "      <th>model</th>\n",
       "      <th>version</th>\n",
       "      <th>price</th>\n",
       "      <th>price_financed</th>\n",
       "      <th>fuel</th>\n",
       "      <th>year</th>\n",
       "      <th>kms</th>\n",
       "      <th>power</th>\n",
       "      <th>doors</th>\n",
       "      <th>shift</th>\n",
       "      <th>color</th>\n",
       "      <th>photos</th>\n",
       "      <th>is_professional</th>\n",
       "      <th>dealer</th>\n",
       "      <th>province</th>\n",
       "      <th>publish_date</th>\n",
       "      <th>insert_date</th>\n",
       "    </tr>\n",
       "  </thead>\n",
       "  <tbody>\n",
       "    <tr>\n",
       "      <th>0</th>\n",
       "      <td>SEAT</td>\n",
       "      <td>Toledo</td>\n",
       "      <td>SEAT Toledo  4p.</td>\n",
       "      <td>950</td>\n",
       "      <td>NaN</td>\n",
       "      <td>Diésel</td>\n",
       "      <td>2000.0</td>\n",
       "      <td>227000</td>\n",
       "      <td>NaN</td>\n",
       "      <td>4</td>\n",
       "      <td>Manual</td>\n",
       "      <td>Verde</td>\n",
       "      <td>5</td>\n",
       "      <td>False</td>\n",
       "      <td>0f4bb8455d27349b8273109b66a847f3</td>\n",
       "      <td>Navarra</td>\n",
       "      <td>2020-12-18 10:47:13</td>\n",
       "      <td>2021-01-15 00:00:00</td>\n",
       "    </tr>\n",
       "    <tr>\n",
       "      <th>1</th>\n",
       "      <td>CITROEN</td>\n",
       "      <td>C1</td>\n",
       "      <td>CITROEN C1 PureTech 60KW 82CV Feel 5p.</td>\n",
       "      <td>6200</td>\n",
       "      <td>NaN</td>\n",
       "      <td>Gasolina</td>\n",
       "      <td>2017.0</td>\n",
       "      <td>50071</td>\n",
       "      <td>82.0</td>\n",
       "      <td>5</td>\n",
       "      <td>Manual</td>\n",
       "      <td>Blanco</td>\n",
       "      <td>6</td>\n",
       "      <td>True</td>\n",
       "      <td>Autos Raymara</td>\n",
       "      <td>Tenerife</td>\n",
       "      <td>2021-01-02 11:25:40</td>\n",
       "      <td>2021-01-15 00:00:00</td>\n",
       "    </tr>\n",
       "    <tr>\n",
       "      <th>2</th>\n",
       "      <td>FORD</td>\n",
       "      <td>Transit Connect</td>\n",
       "      <td>FORD Transit Connect Van 1.5 TDCi 100cv Ambien...</td>\n",
       "      <td>7851</td>\n",
       "      <td>7024.0</td>\n",
       "      <td>Diésel</td>\n",
       "      <td>2016.0</td>\n",
       "      <td>103000</td>\n",
       "      <td>100.0</td>\n",
       "      <td>4</td>\n",
       "      <td>Manual</td>\n",
       "      <td>Blanco</td>\n",
       "      <td>10</td>\n",
       "      <td>True</td>\n",
       "      <td>Auto 96</td>\n",
       "      <td>Barcelona</td>\n",
       "      <td>2020-12-16 10:51:45</td>\n",
       "      <td>2021-01-15 00:00:00</td>\n",
       "    </tr>\n",
       "    <tr>\n",
       "      <th>3</th>\n",
       "      <td>VOLKSWAGEN</td>\n",
       "      <td>Caravelle</td>\n",
       "      <td>VOLKSWAGEN Caravelle Largo 2.0 TDI 140 Comfort...</td>\n",
       "      <td>19426</td>\n",
       "      <td>NaN</td>\n",
       "      <td>Diésel</td>\n",
       "      <td>2014.0</td>\n",
       "      <td>120000</td>\n",
       "      <td>140.0</td>\n",
       "      <td>4</td>\n",
       "      <td>Manual</td>\n",
       "      <td>Blanco</td>\n",
       "      <td>9</td>\n",
       "      <td>True</td>\n",
       "      <td>Inniauto</td>\n",
       "      <td>Navarra</td>\n",
       "      <td>2020-11-25 11:09:14</td>\n",
       "      <td>2021-01-15 00:00:00</td>\n",
       "    </tr>\n",
       "    <tr>\n",
       "      <th>4</th>\n",
       "      <td>FORD</td>\n",
       "      <td>Transit</td>\n",
       "      <td>FORD Transit 350 96kW L4 Ambiente Propulsion T...</td>\n",
       "      <td>22850</td>\n",
       "      <td>22800.0</td>\n",
       "      <td>Diésel</td>\n",
       "      <td>2017.0</td>\n",
       "      <td>107000</td>\n",
       "      <td>130.0</td>\n",
       "      <td>2</td>\n",
       "      <td>Manual</td>\n",
       "      <td>Blanco</td>\n",
       "      <td>4</td>\n",
       "      <td>True</td>\n",
       "      <td>Autofleet España,s.l</td>\n",
       "      <td>Sevilla</td>\n",
       "      <td>2021-01-12 20:00:34</td>\n",
       "      <td>2021-01-15 00:00:00</td>\n",
       "    </tr>\n",
       "  </tbody>\n",
       "</table>\n",
       "</div>"
      ],
      "text/plain": [
       "         make            model  \\\n",
       "0        SEAT           Toledo   \n",
       "1     CITROEN               C1   \n",
       "2        FORD  Transit Connect   \n",
       "3  VOLKSWAGEN        Caravelle   \n",
       "4        FORD          Transit   \n",
       "\n",
       "                                             version  price  price_financed  \\\n",
       "0                                   SEAT Toledo  4p.    950             NaN   \n",
       "1             CITROEN C1 PureTech 60KW 82CV Feel 5p.   6200             NaN   \n",
       "2  FORD Transit Connect Van 1.5 TDCi 100cv Ambien...   7851          7024.0   \n",
       "3  VOLKSWAGEN Caravelle Largo 2.0 TDI 140 Comfort...  19426             NaN   \n",
       "4  FORD Transit 350 96kW L4 Ambiente Propulsion T...  22850         22800.0   \n",
       "\n",
       "       fuel    year     kms  power  doors   shift   color  photos  \\\n",
       "0    Diésel  2000.0  227000    NaN      4  Manual   Verde       5   \n",
       "1  Gasolina  2017.0   50071   82.0      5  Manual  Blanco       6   \n",
       "2    Diésel  2016.0  103000  100.0      4  Manual  Blanco      10   \n",
       "3    Diésel  2014.0  120000  140.0      4  Manual  Blanco       9   \n",
       "4    Diésel  2017.0  107000  130.0      2  Manual  Blanco       4   \n",
       "\n",
       "   is_professional                            dealer   province  \\\n",
       "0            False  0f4bb8455d27349b8273109b66a847f3    Navarra   \n",
       "1             True                     Autos Raymara   Tenerife   \n",
       "2             True                           Auto 96  Barcelona   \n",
       "3             True                          Inniauto    Navarra   \n",
       "4             True              Autofleet España,s.l    Sevilla   \n",
       "\n",
       "          publish_date          insert_date  \n",
       "0  2020-12-18 10:47:13  2021-01-15 00:00:00  \n",
       "1  2021-01-02 11:25:40  2021-01-15 00:00:00  \n",
       "2  2020-12-16 10:51:45  2021-01-15 00:00:00  \n",
       "3  2020-11-25 11:09:14  2021-01-15 00:00:00  \n",
       "4  2021-01-12 20:00:34  2021-01-15 00:00:00  "
      ]
     },
     "execution_count": 12,
     "metadata": {},
     "output_type": "execute_result"
    }
   ],
   "source": [
    "df.drop(columns=['url', 'company', 'country'], inplace=True)\n",
    "df.head()"
   ]
  },
  {
   "cell_type": "markdown",
   "metadata": {},
   "source": [
    "## Calculo del precio medio de venta por cada marca en la muestra"
   ]
  },
  {
   "cell_type": "markdown",
   "metadata": {},
   "source": [
    "Se considera relevante para el analisis el calculo del  precio medio de venta de todas las marcas de coches con la finalidad de conseguir una visión más clara de cuáles de ellas son las más caras y más baratas en el mercado de coches de segunda mano, kilómetro cero y seminuevos. "
   ]
  },
  {
   "cell_type": "code",
   "execution_count": null,
   "metadata": {},
   "outputs": [],
   "source": [
    "df2 = df.groupby('make')['price'].mean()\n",
    "df2a = df2.reset_index()\n",
    "df2a.columns = ['marca', 'precio_medio']\n",
    "\n",
    "df2a.head()"
   ]
  },
  {
   "cell_type": "code",
   "execution_count": null,
   "metadata": {},
   "outputs": [
    {
     "data": {
      "application/vnd.plotly.v1+json": {
       "config": {
        "plotlyServerURL": "https://plot.ly"
       },
       "data": [
        {
         "alignmentgroup": "True",
         "hovertemplate": "marca=%{x}<br>precio_medio=%{y}<extra></extra>",
         "legendgroup": "",
         "marker": {
          "color": "#636efa",
          "pattern": {
           "shape": ""
          }
         },
         "name": "",
         "offsetgroup": "",
         "orientation": "v",
         "showlegend": false,
         "textposition": "auto",
         "type": "bar",
         "x": [
          "ABARTH",
          "ALFA ROMEO",
          "ALPINE",
          "ARO",
          "ASTON MARTIN",
          "AUDI",
          "AUSTIN",
          "BENTLEY",
          "BMW",
          "CADILLAC",
          "CHEVROLET",
          "CHRYSLER",
          "CITROEN",
          "CORVETTE",
          "CUPRA",
          "DACIA",
          "DAEWOO",
          "DAIHATSU",
          "DFSK",
          "DODGE",
          "DR AUTOMOBILES",
          "DS",
          "FERRARI",
          "FIAT",
          "FORD",
          "GALLOPER",
          "HONDA",
          "HUMMER",
          "HYUNDAI",
          "INFINITI",
          "ISUZU",
          "IVECO",
          "IVECO-PEGASO",
          "JAGUAR",
          "JEEP",
          "KIA",
          "LADA",
          "LAMBORGHINI",
          "LANCIA",
          "LAND-ROVER",
          "LDV",
          "LEXUS",
          "LOTUS",
          "MAHINDRA",
          "MASERATI",
          "MAXUS",
          "MAZDA",
          "MERCEDES-BENZ",
          "MG",
          "MINI",
          "MITSUBISHI",
          "MORGAN",
          "NISSAN",
          "OPEL",
          "PEUGEOT",
          "PIAGGIO",
          "PONTIAC",
          "PORSCHE",
          "RENAULT",
          "ROVER",
          "SAAB",
          "SANTANA",
          "SEAT",
          "SKODA",
          "SMART",
          "SSANGYONG",
          "SUBARU",
          "SUZUKI",
          "TATA",
          "TESLA",
          "TOYOTA",
          "UMM",
          "VAZ",
          "VOLKSWAGEN",
          "VOLVO"
         ],
         "xaxis": "x",
         "y": [
          19098.333333333332,
          13815.427152317881,
          66000,
          1000,
          89578.66666666667,
          19121.802403204274,
          10500,
          134285.72,
          18822.743458980043,
          11030.57142857143,
          6803.241071428572,
          4253.079365079365,
          9140.551313485113,
          43830,
          37737.933333333334,
          8483.906137184116,
          1268.2,
          3500,
          24421.625,
          7339.464285714285,
          16990,
          24930.544,
          163291.29032258064,
          9063.02217453505,
          10294.717265725289,
          3451.9,
          11849.663793103447,
          28224.75,
          13437.27502175805,
          20347.24358974359,
          29172.428571428572,
          14304.854166666666,
          2000,
          26771.14749262537,
          23149.30100334448,
          14757.984794275491,
          4900,
          252112.375,
          6268.903225806452,
          33728.49243697479,
          8900,
          24058.68439716312,
          29850,
          16044.545454545454,
          57325.854838709674,
          20290,
          13933.942857142858,
          24262.221197066476,
          2271.818181818182,
          14782.145499383478,
          12688.287425149701,
          29000,
          13868.205018359853,
          9499.671682626538,
          11401.408267954133,
          10900,
          12250,
          61658.60154738878,
          9061.696514230893,
          3070.3055555555557,
          3771.5342465753424,
          7349.75,
          10086.456989247312,
          12941.313588850175,
          9805.709183673469,
          11425.912037037036,
          20040.262626262625,
          12325.873015873016,
          2360.7272727272725,
          53672.95652173913,
          12836.858514724712,
          8000,
          500,
          13140.105103806229,
          21005.61482381531
         ],
         "yaxis": "y"
        }
       ],
       "layout": {
        "barmode": "relative",
        "legend": {
         "tracegroupgap": 0
        },
        "template": {
         "data": {
          "bar": [
           {
            "error_x": {
             "color": "#2a3f5f"
            },
            "error_y": {
             "color": "#2a3f5f"
            },
            "marker": {
             "line": {
              "color": "#E5ECF6",
              "width": 0.5
             },
             "pattern": {
              "fillmode": "overlay",
              "size": 10,
              "solidity": 0.2
             }
            },
            "type": "bar"
           }
          ],
          "barpolar": [
           {
            "marker": {
             "line": {
              "color": "#E5ECF6",
              "width": 0.5
             },
             "pattern": {
              "fillmode": "overlay",
              "size": 10,
              "solidity": 0.2
             }
            },
            "type": "barpolar"
           }
          ],
          "carpet": [
           {
            "aaxis": {
             "endlinecolor": "#2a3f5f",
             "gridcolor": "white",
             "linecolor": "white",
             "minorgridcolor": "white",
             "startlinecolor": "#2a3f5f"
            },
            "baxis": {
             "endlinecolor": "#2a3f5f",
             "gridcolor": "white",
             "linecolor": "white",
             "minorgridcolor": "white",
             "startlinecolor": "#2a3f5f"
            },
            "type": "carpet"
           }
          ],
          "choropleth": [
           {
            "colorbar": {
             "outlinewidth": 0,
             "ticks": ""
            },
            "type": "choropleth"
           }
          ],
          "contour": [
           {
            "colorbar": {
             "outlinewidth": 0,
             "ticks": ""
            },
            "colorscale": [
             [
              0,
              "#0d0887"
             ],
             [
              0.1111111111111111,
              "#46039f"
             ],
             [
              0.2222222222222222,
              "#7201a8"
             ],
             [
              0.3333333333333333,
              "#9c179e"
             ],
             [
              0.4444444444444444,
              "#bd3786"
             ],
             [
              0.5555555555555556,
              "#d8576b"
             ],
             [
              0.6666666666666666,
              "#ed7953"
             ],
             [
              0.7777777777777778,
              "#fb9f3a"
             ],
             [
              0.8888888888888888,
              "#fdca26"
             ],
             [
              1,
              "#f0f921"
             ]
            ],
            "type": "contour"
           }
          ],
          "contourcarpet": [
           {
            "colorbar": {
             "outlinewidth": 0,
             "ticks": ""
            },
            "type": "contourcarpet"
           }
          ],
          "heatmap": [
           {
            "colorbar": {
             "outlinewidth": 0,
             "ticks": ""
            },
            "colorscale": [
             [
              0,
              "#0d0887"
             ],
             [
              0.1111111111111111,
              "#46039f"
             ],
             [
              0.2222222222222222,
              "#7201a8"
             ],
             [
              0.3333333333333333,
              "#9c179e"
             ],
             [
              0.4444444444444444,
              "#bd3786"
             ],
             [
              0.5555555555555556,
              "#d8576b"
             ],
             [
              0.6666666666666666,
              "#ed7953"
             ],
             [
              0.7777777777777778,
              "#fb9f3a"
             ],
             [
              0.8888888888888888,
              "#fdca26"
             ],
             [
              1,
              "#f0f921"
             ]
            ],
            "type": "heatmap"
           }
          ],
          "heatmapgl": [
           {
            "colorbar": {
             "outlinewidth": 0,
             "ticks": ""
            },
            "colorscale": [
             [
              0,
              "#0d0887"
             ],
             [
              0.1111111111111111,
              "#46039f"
             ],
             [
              0.2222222222222222,
              "#7201a8"
             ],
             [
              0.3333333333333333,
              "#9c179e"
             ],
             [
              0.4444444444444444,
              "#bd3786"
             ],
             [
              0.5555555555555556,
              "#d8576b"
             ],
             [
              0.6666666666666666,
              "#ed7953"
             ],
             [
              0.7777777777777778,
              "#fb9f3a"
             ],
             [
              0.8888888888888888,
              "#fdca26"
             ],
             [
              1,
              "#f0f921"
             ]
            ],
            "type": "heatmapgl"
           }
          ],
          "histogram": [
           {
            "marker": {
             "pattern": {
              "fillmode": "overlay",
              "size": 10,
              "solidity": 0.2
             }
            },
            "type": "histogram"
           }
          ],
          "histogram2d": [
           {
            "colorbar": {
             "outlinewidth": 0,
             "ticks": ""
            },
            "colorscale": [
             [
              0,
              "#0d0887"
             ],
             [
              0.1111111111111111,
              "#46039f"
             ],
             [
              0.2222222222222222,
              "#7201a8"
             ],
             [
              0.3333333333333333,
              "#9c179e"
             ],
             [
              0.4444444444444444,
              "#bd3786"
             ],
             [
              0.5555555555555556,
              "#d8576b"
             ],
             [
              0.6666666666666666,
              "#ed7953"
             ],
             [
              0.7777777777777778,
              "#fb9f3a"
             ],
             [
              0.8888888888888888,
              "#fdca26"
             ],
             [
              1,
              "#f0f921"
             ]
            ],
            "type": "histogram2d"
           }
          ],
          "histogram2dcontour": [
           {
            "colorbar": {
             "outlinewidth": 0,
             "ticks": ""
            },
            "colorscale": [
             [
              0,
              "#0d0887"
             ],
             [
              0.1111111111111111,
              "#46039f"
             ],
             [
              0.2222222222222222,
              "#7201a8"
             ],
             [
              0.3333333333333333,
              "#9c179e"
             ],
             [
              0.4444444444444444,
              "#bd3786"
             ],
             [
              0.5555555555555556,
              "#d8576b"
             ],
             [
              0.6666666666666666,
              "#ed7953"
             ],
             [
              0.7777777777777778,
              "#fb9f3a"
             ],
             [
              0.8888888888888888,
              "#fdca26"
             ],
             [
              1,
              "#f0f921"
             ]
            ],
            "type": "histogram2dcontour"
           }
          ],
          "mesh3d": [
           {
            "colorbar": {
             "outlinewidth": 0,
             "ticks": ""
            },
            "type": "mesh3d"
           }
          ],
          "parcoords": [
           {
            "line": {
             "colorbar": {
              "outlinewidth": 0,
              "ticks": ""
             }
            },
            "type": "parcoords"
           }
          ],
          "pie": [
           {
            "automargin": true,
            "type": "pie"
           }
          ],
          "scatter": [
           {
            "fillpattern": {
             "fillmode": "overlay",
             "size": 10,
             "solidity": 0.2
            },
            "type": "scatter"
           }
          ],
          "scatter3d": [
           {
            "line": {
             "colorbar": {
              "outlinewidth": 0,
              "ticks": ""
             }
            },
            "marker": {
             "colorbar": {
              "outlinewidth": 0,
              "ticks": ""
             }
            },
            "type": "scatter3d"
           }
          ],
          "scattercarpet": [
           {
            "marker": {
             "colorbar": {
              "outlinewidth": 0,
              "ticks": ""
             }
            },
            "type": "scattercarpet"
           }
          ],
          "scattergeo": [
           {
            "marker": {
             "colorbar": {
              "outlinewidth": 0,
              "ticks": ""
             }
            },
            "type": "scattergeo"
           }
          ],
          "scattergl": [
           {
            "marker": {
             "colorbar": {
              "outlinewidth": 0,
              "ticks": ""
             }
            },
            "type": "scattergl"
           }
          ],
          "scattermapbox": [
           {
            "marker": {
             "colorbar": {
              "outlinewidth": 0,
              "ticks": ""
             }
            },
            "type": "scattermapbox"
           }
          ],
          "scatterpolar": [
           {
            "marker": {
             "colorbar": {
              "outlinewidth": 0,
              "ticks": ""
             }
            },
            "type": "scatterpolar"
           }
          ],
          "scatterpolargl": [
           {
            "marker": {
             "colorbar": {
              "outlinewidth": 0,
              "ticks": ""
             }
            },
            "type": "scatterpolargl"
           }
          ],
          "scatterternary": [
           {
            "marker": {
             "colorbar": {
              "outlinewidth": 0,
              "ticks": ""
             }
            },
            "type": "scatterternary"
           }
          ],
          "surface": [
           {
            "colorbar": {
             "outlinewidth": 0,
             "ticks": ""
            },
            "colorscale": [
             [
              0,
              "#0d0887"
             ],
             [
              0.1111111111111111,
              "#46039f"
             ],
             [
              0.2222222222222222,
              "#7201a8"
             ],
             [
              0.3333333333333333,
              "#9c179e"
             ],
             [
              0.4444444444444444,
              "#bd3786"
             ],
             [
              0.5555555555555556,
              "#d8576b"
             ],
             [
              0.6666666666666666,
              "#ed7953"
             ],
             [
              0.7777777777777778,
              "#fb9f3a"
             ],
             [
              0.8888888888888888,
              "#fdca26"
             ],
             [
              1,
              "#f0f921"
             ]
            ],
            "type": "surface"
           }
          ],
          "table": [
           {
            "cells": {
             "fill": {
              "color": "#EBF0F8"
             },
             "line": {
              "color": "white"
             }
            },
            "header": {
             "fill": {
              "color": "#C8D4E3"
             },
             "line": {
              "color": "white"
             }
            },
            "type": "table"
           }
          ]
         },
         "layout": {
          "annotationdefaults": {
           "arrowcolor": "#2a3f5f",
           "arrowhead": 0,
           "arrowwidth": 1
          },
          "autotypenumbers": "strict",
          "coloraxis": {
           "colorbar": {
            "outlinewidth": 0,
            "ticks": ""
           }
          },
          "colorscale": {
           "diverging": [
            [
             0,
             "#8e0152"
            ],
            [
             0.1,
             "#c51b7d"
            ],
            [
             0.2,
             "#de77ae"
            ],
            [
             0.3,
             "#f1b6da"
            ],
            [
             0.4,
             "#fde0ef"
            ],
            [
             0.5,
             "#f7f7f7"
            ],
            [
             0.6,
             "#e6f5d0"
            ],
            [
             0.7,
             "#b8e186"
            ],
            [
             0.8,
             "#7fbc41"
            ],
            [
             0.9,
             "#4d9221"
            ],
            [
             1,
             "#276419"
            ]
           ],
           "sequential": [
            [
             0,
             "#0d0887"
            ],
            [
             0.1111111111111111,
             "#46039f"
            ],
            [
             0.2222222222222222,
             "#7201a8"
            ],
            [
             0.3333333333333333,
             "#9c179e"
            ],
            [
             0.4444444444444444,
             "#bd3786"
            ],
            [
             0.5555555555555556,
             "#d8576b"
            ],
            [
             0.6666666666666666,
             "#ed7953"
            ],
            [
             0.7777777777777778,
             "#fb9f3a"
            ],
            [
             0.8888888888888888,
             "#fdca26"
            ],
            [
             1,
             "#f0f921"
            ]
           ],
           "sequentialminus": [
            [
             0,
             "#0d0887"
            ],
            [
             0.1111111111111111,
             "#46039f"
            ],
            [
             0.2222222222222222,
             "#7201a8"
            ],
            [
             0.3333333333333333,
             "#9c179e"
            ],
            [
             0.4444444444444444,
             "#bd3786"
            ],
            [
             0.5555555555555556,
             "#d8576b"
            ],
            [
             0.6666666666666666,
             "#ed7953"
            ],
            [
             0.7777777777777778,
             "#fb9f3a"
            ],
            [
             0.8888888888888888,
             "#fdca26"
            ],
            [
             1,
             "#f0f921"
            ]
           ]
          },
          "colorway": [
           "#636efa",
           "#EF553B",
           "#00cc96",
           "#ab63fa",
           "#FFA15A",
           "#19d3f3",
           "#FF6692",
           "#B6E880",
           "#FF97FF",
           "#FECB52"
          ],
          "font": {
           "color": "#2a3f5f"
          },
          "geo": {
           "bgcolor": "white",
           "lakecolor": "white",
           "landcolor": "#E5ECF6",
           "showlakes": true,
           "showland": true,
           "subunitcolor": "white"
          },
          "hoverlabel": {
           "align": "left"
          },
          "hovermode": "closest",
          "mapbox": {
           "style": "light"
          },
          "paper_bgcolor": "white",
          "plot_bgcolor": "#E5ECF6",
          "polar": {
           "angularaxis": {
            "gridcolor": "white",
            "linecolor": "white",
            "ticks": ""
           },
           "bgcolor": "#E5ECF6",
           "radialaxis": {
            "gridcolor": "white",
            "linecolor": "white",
            "ticks": ""
           }
          },
          "scene": {
           "xaxis": {
            "backgroundcolor": "#E5ECF6",
            "gridcolor": "white",
            "gridwidth": 2,
            "linecolor": "white",
            "showbackground": true,
            "ticks": "",
            "zerolinecolor": "white"
           },
           "yaxis": {
            "backgroundcolor": "#E5ECF6",
            "gridcolor": "white",
            "gridwidth": 2,
            "linecolor": "white",
            "showbackground": true,
            "ticks": "",
            "zerolinecolor": "white"
           },
           "zaxis": {
            "backgroundcolor": "#E5ECF6",
            "gridcolor": "white",
            "gridwidth": 2,
            "linecolor": "white",
            "showbackground": true,
            "ticks": "",
            "zerolinecolor": "white"
           }
          },
          "shapedefaults": {
           "line": {
            "color": "#2a3f5f"
           }
          },
          "ternary": {
           "aaxis": {
            "gridcolor": "white",
            "linecolor": "white",
            "ticks": ""
           },
           "baxis": {
            "gridcolor": "white",
            "linecolor": "white",
            "ticks": ""
           },
           "bgcolor": "#E5ECF6",
           "caxis": {
            "gridcolor": "white",
            "linecolor": "white",
            "ticks": ""
           }
          },
          "title": {
           "x": 0.05
          },
          "xaxis": {
           "automargin": true,
           "gridcolor": "white",
           "linecolor": "white",
           "ticks": "",
           "title": {
            "standoff": 15
           },
           "zerolinecolor": "white",
           "zerolinewidth": 2
          },
          "yaxis": {
           "automargin": true,
           "gridcolor": "white",
           "linecolor": "white",
           "ticks": "",
           "title": {
            "standoff": 15
           },
           "zerolinecolor": "white",
           "zerolinewidth": 2
          }
         }
        },
        "title": {
         "text": "Precio medio de venta de vehiculos de segunda mano en España segun la marca"
        },
        "xaxis": {
         "anchor": "y",
         "domain": [
          0,
          1
         ],
         "title": {
          "text": "marca"
         }
        },
        "yaxis": {
         "anchor": "x",
         "domain": [
          0,
          1
         ],
         "title": {
          "text": "precio_medio"
         }
        }
       }
      },
      "text/html": [
       "<div>                            <div id=\"c91b6c99-edc2-498b-bb86-4b288f6db685\" class=\"plotly-graph-div\" style=\"height:525px; width:100%;\"></div>            <script type=\"text/javascript\">                require([\"plotly\"], function(Plotly) {                    window.PLOTLYENV=window.PLOTLYENV || {};                                    if (document.getElementById(\"c91b6c99-edc2-498b-bb86-4b288f6db685\")) {                    Plotly.newPlot(                        \"c91b6c99-edc2-498b-bb86-4b288f6db685\",                        [{\"alignmentgroup\":\"True\",\"hovertemplate\":\"marca=%{x}\\u003cbr\\u003eprecio_medio=%{y}\\u003cextra\\u003e\\u003c\\u002fextra\\u003e\",\"legendgroup\":\"\",\"marker\":{\"color\":\"#636efa\",\"pattern\":{\"shape\":\"\"}},\"name\":\"\",\"offsetgroup\":\"\",\"orientation\":\"v\",\"showlegend\":false,\"textposition\":\"auto\",\"x\":[\"ABARTH\",\"ALFA ROMEO\",\"ALPINE\",\"ARO\",\"ASTON MARTIN\",\"AUDI\",\"AUSTIN\",\"BENTLEY\",\"BMW\",\"CADILLAC\",\"CHEVROLET\",\"CHRYSLER\",\"CITROEN\",\"CORVETTE\",\"CUPRA\",\"DACIA\",\"DAEWOO\",\"DAIHATSU\",\"DFSK\",\"DODGE\",\"DR AUTOMOBILES\",\"DS\",\"FERRARI\",\"FIAT\",\"FORD\",\"GALLOPER\",\"HONDA\",\"HUMMER\",\"HYUNDAI\",\"INFINITI\",\"ISUZU\",\"IVECO\",\"IVECO-PEGASO\",\"JAGUAR\",\"JEEP\",\"KIA\",\"LADA\",\"LAMBORGHINI\",\"LANCIA\",\"LAND-ROVER\",\"LDV\",\"LEXUS\",\"LOTUS\",\"MAHINDRA\",\"MASERATI\",\"MAXUS\",\"MAZDA\",\"MERCEDES-BENZ\",\"MG\",\"MINI\",\"MITSUBISHI\",\"MORGAN\",\"NISSAN\",\"OPEL\",\"PEUGEOT\",\"PIAGGIO\",\"PONTIAC\",\"PORSCHE\",\"RENAULT\",\"ROVER\",\"SAAB\",\"SANTANA\",\"SEAT\",\"SKODA\",\"SMART\",\"SSANGYONG\",\"SUBARU\",\"SUZUKI\",\"TATA\",\"TESLA\",\"TOYOTA\",\"UMM\",\"VAZ\",\"VOLKSWAGEN\",\"VOLVO\"],\"xaxis\":\"x\",\"y\":[19098.333333333332,13815.427152317881,66000.0,1000.0,89578.66666666667,19121.802403204274,10500.0,134285.72,18822.743458980043,11030.57142857143,6803.241071428572,4253.079365079365,9140.551313485113,43830.0,37737.933333333334,8483.906137184116,1268.2,3500.0,24421.625,7339.464285714285,16990.0,24930.544,163291.29032258064,9063.02217453505,10294.717265725289,3451.9,11849.663793103447,28224.75,13437.27502175805,20347.24358974359,29172.428571428572,14304.854166666666,2000.0,26771.14749262537,23149.30100334448,14757.984794275491,4900.0,252112.375,6268.903225806452,33728.49243697479,8900.0,24058.68439716312,29850.0,16044.545454545454,57325.854838709674,20290.0,13933.942857142858,24262.221197066476,2271.818181818182,14782.145499383478,12688.287425149701,29000.0,13868.205018359853,9499.671682626538,11401.408267954133,10900.0,12250.0,61658.60154738878,9061.696514230893,3070.3055555555557,3771.5342465753424,7349.75,10086.456989247312,12941.313588850175,9805.709183673469,11425.912037037036,20040.262626262625,12325.873015873016,2360.7272727272725,53672.95652173913,12836.858514724712,8000.0,500.0,13140.105103806229,21005.61482381531],\"yaxis\":\"y\",\"type\":\"bar\"}],                        {\"template\":{\"data\":{\"histogram2dcontour\":[{\"type\":\"histogram2dcontour\",\"colorbar\":{\"outlinewidth\":0,\"ticks\":\"\"},\"colorscale\":[[0.0,\"#0d0887\"],[0.1111111111111111,\"#46039f\"],[0.2222222222222222,\"#7201a8\"],[0.3333333333333333,\"#9c179e\"],[0.4444444444444444,\"#bd3786\"],[0.5555555555555556,\"#d8576b\"],[0.6666666666666666,\"#ed7953\"],[0.7777777777777778,\"#fb9f3a\"],[0.8888888888888888,\"#fdca26\"],[1.0,\"#f0f921\"]]}],\"choropleth\":[{\"type\":\"choropleth\",\"colorbar\":{\"outlinewidth\":0,\"ticks\":\"\"}}],\"histogram2d\":[{\"type\":\"histogram2d\",\"colorbar\":{\"outlinewidth\":0,\"ticks\":\"\"},\"colorscale\":[[0.0,\"#0d0887\"],[0.1111111111111111,\"#46039f\"],[0.2222222222222222,\"#7201a8\"],[0.3333333333333333,\"#9c179e\"],[0.4444444444444444,\"#bd3786\"],[0.5555555555555556,\"#d8576b\"],[0.6666666666666666,\"#ed7953\"],[0.7777777777777778,\"#fb9f3a\"],[0.8888888888888888,\"#fdca26\"],[1.0,\"#f0f921\"]]}],\"heatmap\":[{\"type\":\"heatmap\",\"colorbar\":{\"outlinewidth\":0,\"ticks\":\"\"},\"colorscale\":[[0.0,\"#0d0887\"],[0.1111111111111111,\"#46039f\"],[0.2222222222222222,\"#7201a8\"],[0.3333333333333333,\"#9c179e\"],[0.4444444444444444,\"#bd3786\"],[0.5555555555555556,\"#d8576b\"],[0.6666666666666666,\"#ed7953\"],[0.7777777777777778,\"#fb9f3a\"],[0.8888888888888888,\"#fdca26\"],[1.0,\"#f0f921\"]]}],\"heatmapgl\":[{\"type\":\"heatmapgl\",\"colorbar\":{\"outlinewidth\":0,\"ticks\":\"\"},\"colorscale\":[[0.0,\"#0d0887\"],[0.1111111111111111,\"#46039f\"],[0.2222222222222222,\"#7201a8\"],[0.3333333333333333,\"#9c179e\"],[0.4444444444444444,\"#bd3786\"],[0.5555555555555556,\"#d8576b\"],[0.6666666666666666,\"#ed7953\"],[0.7777777777777778,\"#fb9f3a\"],[0.8888888888888888,\"#fdca26\"],[1.0,\"#f0f921\"]]}],\"contourcarpet\":[{\"type\":\"contourcarpet\",\"colorbar\":{\"outlinewidth\":0,\"ticks\":\"\"}}],\"contour\":[{\"type\":\"contour\",\"colorbar\":{\"outlinewidth\":0,\"ticks\":\"\"},\"colorscale\":[[0.0,\"#0d0887\"],[0.1111111111111111,\"#46039f\"],[0.2222222222222222,\"#7201a8\"],[0.3333333333333333,\"#9c179e\"],[0.4444444444444444,\"#bd3786\"],[0.5555555555555556,\"#d8576b\"],[0.6666666666666666,\"#ed7953\"],[0.7777777777777778,\"#fb9f3a\"],[0.8888888888888888,\"#fdca26\"],[1.0,\"#f0f921\"]]}],\"surface\":[{\"type\":\"surface\",\"colorbar\":{\"outlinewidth\":0,\"ticks\":\"\"},\"colorscale\":[[0.0,\"#0d0887\"],[0.1111111111111111,\"#46039f\"],[0.2222222222222222,\"#7201a8\"],[0.3333333333333333,\"#9c179e\"],[0.4444444444444444,\"#bd3786\"],[0.5555555555555556,\"#d8576b\"],[0.6666666666666666,\"#ed7953\"],[0.7777777777777778,\"#fb9f3a\"],[0.8888888888888888,\"#fdca26\"],[1.0,\"#f0f921\"]]}],\"mesh3d\":[{\"type\":\"mesh3d\",\"colorbar\":{\"outlinewidth\":0,\"ticks\":\"\"}}],\"scatter\":[{\"fillpattern\":{\"fillmode\":\"overlay\",\"size\":10,\"solidity\":0.2},\"type\":\"scatter\"}],\"parcoords\":[{\"type\":\"parcoords\",\"line\":{\"colorbar\":{\"outlinewidth\":0,\"ticks\":\"\"}}}],\"scatterpolargl\":[{\"type\":\"scatterpolargl\",\"marker\":{\"colorbar\":{\"outlinewidth\":0,\"ticks\":\"\"}}}],\"bar\":[{\"error_x\":{\"color\":\"#2a3f5f\"},\"error_y\":{\"color\":\"#2a3f5f\"},\"marker\":{\"line\":{\"color\":\"#E5ECF6\",\"width\":0.5},\"pattern\":{\"fillmode\":\"overlay\",\"size\":10,\"solidity\":0.2}},\"type\":\"bar\"}],\"scattergeo\":[{\"type\":\"scattergeo\",\"marker\":{\"colorbar\":{\"outlinewidth\":0,\"ticks\":\"\"}}}],\"scatterpolar\":[{\"type\":\"scatterpolar\",\"marker\":{\"colorbar\":{\"outlinewidth\":0,\"ticks\":\"\"}}}],\"histogram\":[{\"marker\":{\"pattern\":{\"fillmode\":\"overlay\",\"size\":10,\"solidity\":0.2}},\"type\":\"histogram\"}],\"scattergl\":[{\"type\":\"scattergl\",\"marker\":{\"colorbar\":{\"outlinewidth\":0,\"ticks\":\"\"}}}],\"scatter3d\":[{\"type\":\"scatter3d\",\"line\":{\"colorbar\":{\"outlinewidth\":0,\"ticks\":\"\"}},\"marker\":{\"colorbar\":{\"outlinewidth\":0,\"ticks\":\"\"}}}],\"scattermapbox\":[{\"type\":\"scattermapbox\",\"marker\":{\"colorbar\":{\"outlinewidth\":0,\"ticks\":\"\"}}}],\"scatterternary\":[{\"type\":\"scatterternary\",\"marker\":{\"colorbar\":{\"outlinewidth\":0,\"ticks\":\"\"}}}],\"scattercarpet\":[{\"type\":\"scattercarpet\",\"marker\":{\"colorbar\":{\"outlinewidth\":0,\"ticks\":\"\"}}}],\"carpet\":[{\"aaxis\":{\"endlinecolor\":\"#2a3f5f\",\"gridcolor\":\"white\",\"linecolor\":\"white\",\"minorgridcolor\":\"white\",\"startlinecolor\":\"#2a3f5f\"},\"baxis\":{\"endlinecolor\":\"#2a3f5f\",\"gridcolor\":\"white\",\"linecolor\":\"white\",\"minorgridcolor\":\"white\",\"startlinecolor\":\"#2a3f5f\"},\"type\":\"carpet\"}],\"table\":[{\"cells\":{\"fill\":{\"color\":\"#EBF0F8\"},\"line\":{\"color\":\"white\"}},\"header\":{\"fill\":{\"color\":\"#C8D4E3\"},\"line\":{\"color\":\"white\"}},\"type\":\"table\"}],\"barpolar\":[{\"marker\":{\"line\":{\"color\":\"#E5ECF6\",\"width\":0.5},\"pattern\":{\"fillmode\":\"overlay\",\"size\":10,\"solidity\":0.2}},\"type\":\"barpolar\"}],\"pie\":[{\"automargin\":true,\"type\":\"pie\"}]},\"layout\":{\"autotypenumbers\":\"strict\",\"colorway\":[\"#636efa\",\"#EF553B\",\"#00cc96\",\"#ab63fa\",\"#FFA15A\",\"#19d3f3\",\"#FF6692\",\"#B6E880\",\"#FF97FF\",\"#FECB52\"],\"font\":{\"color\":\"#2a3f5f\"},\"hovermode\":\"closest\",\"hoverlabel\":{\"align\":\"left\"},\"paper_bgcolor\":\"white\",\"plot_bgcolor\":\"#E5ECF6\",\"polar\":{\"bgcolor\":\"#E5ECF6\",\"angularaxis\":{\"gridcolor\":\"white\",\"linecolor\":\"white\",\"ticks\":\"\"},\"radialaxis\":{\"gridcolor\":\"white\",\"linecolor\":\"white\",\"ticks\":\"\"}},\"ternary\":{\"bgcolor\":\"#E5ECF6\",\"aaxis\":{\"gridcolor\":\"white\",\"linecolor\":\"white\",\"ticks\":\"\"},\"baxis\":{\"gridcolor\":\"white\",\"linecolor\":\"white\",\"ticks\":\"\"},\"caxis\":{\"gridcolor\":\"white\",\"linecolor\":\"white\",\"ticks\":\"\"}},\"coloraxis\":{\"colorbar\":{\"outlinewidth\":0,\"ticks\":\"\"}},\"colorscale\":{\"sequential\":[[0.0,\"#0d0887\"],[0.1111111111111111,\"#46039f\"],[0.2222222222222222,\"#7201a8\"],[0.3333333333333333,\"#9c179e\"],[0.4444444444444444,\"#bd3786\"],[0.5555555555555556,\"#d8576b\"],[0.6666666666666666,\"#ed7953\"],[0.7777777777777778,\"#fb9f3a\"],[0.8888888888888888,\"#fdca26\"],[1.0,\"#f0f921\"]],\"sequentialminus\":[[0.0,\"#0d0887\"],[0.1111111111111111,\"#46039f\"],[0.2222222222222222,\"#7201a8\"],[0.3333333333333333,\"#9c179e\"],[0.4444444444444444,\"#bd3786\"],[0.5555555555555556,\"#d8576b\"],[0.6666666666666666,\"#ed7953\"],[0.7777777777777778,\"#fb9f3a\"],[0.8888888888888888,\"#fdca26\"],[1.0,\"#f0f921\"]],\"diverging\":[[0,\"#8e0152\"],[0.1,\"#c51b7d\"],[0.2,\"#de77ae\"],[0.3,\"#f1b6da\"],[0.4,\"#fde0ef\"],[0.5,\"#f7f7f7\"],[0.6,\"#e6f5d0\"],[0.7,\"#b8e186\"],[0.8,\"#7fbc41\"],[0.9,\"#4d9221\"],[1,\"#276419\"]]},\"xaxis\":{\"gridcolor\":\"white\",\"linecolor\":\"white\",\"ticks\":\"\",\"title\":{\"standoff\":15},\"zerolinecolor\":\"white\",\"automargin\":true,\"zerolinewidth\":2},\"yaxis\":{\"gridcolor\":\"white\",\"linecolor\":\"white\",\"ticks\":\"\",\"title\":{\"standoff\":15},\"zerolinecolor\":\"white\",\"automargin\":true,\"zerolinewidth\":2},\"scene\":{\"xaxis\":{\"backgroundcolor\":\"#E5ECF6\",\"gridcolor\":\"white\",\"linecolor\":\"white\",\"showbackground\":true,\"ticks\":\"\",\"zerolinecolor\":\"white\",\"gridwidth\":2},\"yaxis\":{\"backgroundcolor\":\"#E5ECF6\",\"gridcolor\":\"white\",\"linecolor\":\"white\",\"showbackground\":true,\"ticks\":\"\",\"zerolinecolor\":\"white\",\"gridwidth\":2},\"zaxis\":{\"backgroundcolor\":\"#E5ECF6\",\"gridcolor\":\"white\",\"linecolor\":\"white\",\"showbackground\":true,\"ticks\":\"\",\"zerolinecolor\":\"white\",\"gridwidth\":2}},\"shapedefaults\":{\"line\":{\"color\":\"#2a3f5f\"}},\"annotationdefaults\":{\"arrowcolor\":\"#2a3f5f\",\"arrowhead\":0,\"arrowwidth\":1},\"geo\":{\"bgcolor\":\"white\",\"landcolor\":\"#E5ECF6\",\"subunitcolor\":\"white\",\"showland\":true,\"showlakes\":true,\"lakecolor\":\"white\"},\"title\":{\"x\":0.05},\"mapbox\":{\"style\":\"light\"}}},\"xaxis\":{\"anchor\":\"y\",\"domain\":[0.0,1.0],\"title\":{\"text\":\"marca\"}},\"yaxis\":{\"anchor\":\"x\",\"domain\":[0.0,1.0],\"title\":{\"text\":\"precio_medio\"}},\"legend\":{\"tracegroupgap\":0},\"title\":{\"text\":\"Precio medio de venta de vehiculos de segunda mano en Espa\\u00f1a segun la marca\"},\"barmode\":\"relative\"},                        {\"responsive\": true}                    ).then(function(){\n",
       "                            \n",
       "var gd = document.getElementById('c91b6c99-edc2-498b-bb86-4b288f6db685');\n",
       "var x = new MutationObserver(function (mutations, observer) {{\n",
       "        var display = window.getComputedStyle(gd).display;\n",
       "        if (!display || display === 'none') {{\n",
       "            console.log([gd, 'removed!']);\n",
       "            Plotly.purge(gd);\n",
       "            observer.disconnect();\n",
       "        }}\n",
       "}});\n",
       "\n",
       "// Listen for the removal of the full notebook cells\n",
       "var notebookContainer = gd.closest('#notebook-container');\n",
       "if (notebookContainer) {{\n",
       "    x.observe(notebookContainer, {childList: true});\n",
       "}}\n",
       "\n",
       "// Listen for the clearing of the current output cell\n",
       "var outputEl = gd.closest('.output');\n",
       "if (outputEl) {{\n",
       "    x.observe(outputEl, {childList: true});\n",
       "}}\n",
       "\n",
       "                        })                };                });            </script>        </div>"
      ]
     },
     "metadata": {},
     "output_type": "display_data"
    }
   ],
   "source": [
    "import plotly.express as px\n",
    "\n",
    "fig = px.bar(df2a, x='marca', y='precio_medio', title=\"Precio medio de venta de vehiculos de segunda mano en España segun la marca\",\n",
    "            order,labels={'x':'Marca', 'y':'Precio Medio'})\n",
    "fig.show()"
   ]
  },
  {
   "cell_type": "markdown",
   "metadata": {},
   "source": [
    "## Provincias Líderes en Adopción de Vehículos Eléctricos"
   ]
  },
  {
   "cell_type": "markdown",
   "metadata": {},
   "source": [
    "Se considera igualmente importante para el análisis conocer el porcentaje de vehículos eléctricos en comparación con el total de vehículos vendidos por provincia. Esto permitirá identificar las provincias que están mostrando una mayor adopción de la compra de coches eléctricos de segunda mano."
   ]
  },
  {
   "cell_type": "code",
   "execution_count": 5,
   "metadata": {},
   "outputs": [
    {
     "data": {
      "text/html": [
       "<div>\n",
       "<style scoped>\n",
       "    .dataframe tbody tr th:only-of-type {\n",
       "        vertical-align: middle;\n",
       "    }\n",
       "\n",
       "    .dataframe tbody tr th {\n",
       "        vertical-align: top;\n",
       "    }\n",
       "\n",
       "    .dataframe thead th {\n",
       "        text-align: right;\n",
       "    }\n",
       "</style>\n",
       "<table border=\"1\" class=\"dataframe\">\n",
       "  <thead>\n",
       "    <tr style=\"text-align: right;\">\n",
       "      <th></th>\n",
       "      <th>make</th>\n",
       "      <th>model</th>\n",
       "      <th>version</th>\n",
       "      <th>price</th>\n",
       "      <th>price_financed</th>\n",
       "      <th>fuel</th>\n",
       "      <th>year</th>\n",
       "      <th>kms</th>\n",
       "      <th>power</th>\n",
       "      <th>doors</th>\n",
       "      <th>shift</th>\n",
       "      <th>color</th>\n",
       "      <th>photos</th>\n",
       "      <th>is_professional</th>\n",
       "      <th>dealer</th>\n",
       "      <th>province</th>\n",
       "      <th>publish_date</th>\n",
       "      <th>insert_date</th>\n",
       "    </tr>\n",
       "  </thead>\n",
       "  <tbody>\n",
       "    <tr>\n",
       "      <th>73</th>\n",
       "      <td>BMW</td>\n",
       "      <td>i3</td>\n",
       "      <td>BMW i3  5p.</td>\n",
       "      <td>15500</td>\n",
       "      <td>12900.0</td>\n",
       "      <td>Eléctrico</td>\n",
       "      <td>2016.0</td>\n",
       "      <td>49000</td>\n",
       "      <td>170.0</td>\n",
       "      <td>5</td>\n",
       "      <td>Automático</td>\n",
       "      <td>Blanco (blanco-negro)</td>\n",
       "      <td>28</td>\n",
       "      <td>True</td>\n",
       "      <td>AUTOMOVILES YUMACAR S.L</td>\n",
       "      <td>Madrid</td>\n",
       "      <td>2020-12-20 19:37:42</td>\n",
       "      <td>2021-01-15 00:00:00</td>\n",
       "    </tr>\n",
       "    <tr>\n",
       "      <th>117</th>\n",
       "      <td>SMART</td>\n",
       "      <td>fortwo</td>\n",
       "      <td>SMART fortwo 60kW81CV EQ coupe 3p.</td>\n",
       "      <td>14500</td>\n",
       "      <td>14500.0</td>\n",
       "      <td>Eléctrico</td>\n",
       "      <td>2019.0</td>\n",
       "      <td>2000</td>\n",
       "      <td>82.0</td>\n",
       "      <td>3</td>\n",
       "      <td>Automático</td>\n",
       "      <td>Rojo</td>\n",
       "      <td>21</td>\n",
       "      <td>True</td>\n",
       "      <td>Automoviles 10 - Especialistas en Smart</td>\n",
       "      <td>Madrid</td>\n",
       "      <td>2020-12-30 05:23:08</td>\n",
       "      <td>2021-01-15 00:00:00</td>\n",
       "    </tr>\n",
       "    <tr>\n",
       "      <th>408</th>\n",
       "      <td>PEUGEOT</td>\n",
       "      <td>Partner</td>\n",
       "      <td>PEUGEOT Partner Furgon Confort Electric L1</td>\n",
       "      <td>23500</td>\n",
       "      <td>18500.0</td>\n",
       "      <td>Eléctrico</td>\n",
       "      <td>2020.0</td>\n",
       "      <td>10</td>\n",
       "      <td>67.0</td>\n",
       "      <td>3</td>\n",
       "      <td>Automático</td>\n",
       "      <td>Blanco</td>\n",
       "      <td>22</td>\n",
       "      <td>True</td>\n",
       "      <td>PSA Retail Orense</td>\n",
       "      <td>Orense</td>\n",
       "      <td>2021-01-14 16:56:46</td>\n",
       "      <td>2021-01-15 00:00:00</td>\n",
       "    </tr>\n",
       "    <tr>\n",
       "      <th>532</th>\n",
       "      <td>SMART</td>\n",
       "      <td>fortwo</td>\n",
       "      <td>SMART fortwo 60kW81CV EQ coupe 3p.</td>\n",
       "      <td>26920</td>\n",
       "      <td>25950.0</td>\n",
       "      <td>Eléctrico</td>\n",
       "      <td>2020.0</td>\n",
       "      <td>1</td>\n",
       "      <td>82.0</td>\n",
       "      <td>3</td>\n",
       "      <td>Automático</td>\n",
       "      <td>Negro</td>\n",
       "      <td>21</td>\n",
       "      <td>True</td>\n",
       "      <td>Citycar Sur</td>\n",
       "      <td>Madrid</td>\n",
       "      <td>2020-12-24 17:47:29</td>\n",
       "      <td>2021-01-15 00:00:00</td>\n",
       "    </tr>\n",
       "    <tr>\n",
       "      <th>630</th>\n",
       "      <td>DS</td>\n",
       "      <td>DS 3 Crossback E-Tense</td>\n",
       "      <td>DS DS 3 Crossback ETense 50 kWh Performance Li...</td>\n",
       "      <td>38102</td>\n",
       "      <td>37402.0</td>\n",
       "      <td>Eléctrico</td>\n",
       "      <td>2021.0</td>\n",
       "      <td>1</td>\n",
       "      <td>136.0</td>\n",
       "      <td>5</td>\n",
       "      <td>Automático</td>\n",
       "      <td>Gris / Plata</td>\n",
       "      <td>4</td>\n",
       "      <td>True</td>\n",
       "      <td>MAAS EXCLUSIVAS PONT</td>\n",
       "      <td>Barcelona</td>\n",
       "      <td>2021-01-14 12:25:00</td>\n",
       "      <td>2021-01-15 00:00:00</td>\n",
       "    </tr>\n",
       "    <tr>\n",
       "      <th>...</th>\n",
       "      <td>...</td>\n",
       "      <td>...</td>\n",
       "      <td>...</td>\n",
       "      <td>...</td>\n",
       "      <td>...</td>\n",
       "      <td>...</td>\n",
       "      <td>...</td>\n",
       "      <td>...</td>\n",
       "      <td>...</td>\n",
       "      <td>...</td>\n",
       "      <td>...</td>\n",
       "      <td>...</td>\n",
       "      <td>...</td>\n",
       "      <td>...</td>\n",
       "      <td>...</td>\n",
       "      <td>...</td>\n",
       "      <td>...</td>\n",
       "      <td>...</td>\n",
       "    </tr>\n",
       "    <tr>\n",
       "      <th>49033</th>\n",
       "      <td>HONDA</td>\n",
       "      <td>Honda e</td>\n",
       "      <td>HONDA Honda e Advance Llantas 16 5p.</td>\n",
       "      <td>25900</td>\n",
       "      <td>NaN</td>\n",
       "      <td>Eléctrico</td>\n",
       "      <td>2020.0</td>\n",
       "      <td>5000</td>\n",
       "      <td>154.0</td>\n",
       "      <td>5</td>\n",
       "      <td>Automático</td>\n",
       "      <td>Blanco</td>\n",
       "      <td>6</td>\n",
       "      <td>False</td>\n",
       "      <td>1fd2a8a65c9ac9cd3e64954f4f44bcf8</td>\n",
       "      <td>Madrid</td>\n",
       "      <td>2021-01-04 23:55:43</td>\n",
       "      <td>2021-01-15 00:00:00</td>\n",
       "    </tr>\n",
       "    <tr>\n",
       "      <th>49412</th>\n",
       "      <td>RENAULT</td>\n",
       "      <td>Zoe</td>\n",
       "      <td>RENAULT Zoe Life 40 R90 5p.</td>\n",
       "      <td>19900</td>\n",
       "      <td>18400.0</td>\n",
       "      <td>Eléctrico</td>\n",
       "      <td>2019.0</td>\n",
       "      <td>1100</td>\n",
       "      <td>92.0</td>\n",
       "      <td>5</td>\n",
       "      <td>Automático</td>\n",
       "      <td>Blanco</td>\n",
       "      <td>21</td>\n",
       "      <td>True</td>\n",
       "      <td>Vearsa</td>\n",
       "      <td>Zaragoza</td>\n",
       "      <td>2020-12-26 19:03:50</td>\n",
       "      <td>2021-01-15 00:00:00</td>\n",
       "    </tr>\n",
       "    <tr>\n",
       "      <th>49429</th>\n",
       "      <td>NISSAN</td>\n",
       "      <td>LEAF</td>\n",
       "      <td>NISSAN LEAF 40kWh Tekna ProPilot Park 5p.</td>\n",
       "      <td>32250</td>\n",
       "      <td>30250.0</td>\n",
       "      <td>Eléctrico</td>\n",
       "      <td>2019.0</td>\n",
       "      <td>2500</td>\n",
       "      <td>150.0</td>\n",
       "      <td>5</td>\n",
       "      <td>Automático</td>\n",
       "      <td>Blanco</td>\n",
       "      <td>26</td>\n",
       "      <td>True</td>\n",
       "      <td>NISSAN Barbera, Granollers, Terrassa, Igualada...</td>\n",
       "      <td>Barcelona</td>\n",
       "      <td>2021-01-10 19:45:39</td>\n",
       "      <td>2021-01-15 00:00:00</td>\n",
       "    </tr>\n",
       "    <tr>\n",
       "      <th>49571</th>\n",
       "      <td>CITROEN</td>\n",
       "      <td>C-Zero</td>\n",
       "      <td>CITROEN CZero Seduction 5p.</td>\n",
       "      <td>8900</td>\n",
       "      <td>7900.0</td>\n",
       "      <td>Eléctrico</td>\n",
       "      <td>2017.0</td>\n",
       "      <td>58250</td>\n",
       "      <td>67.0</td>\n",
       "      <td>5</td>\n",
       "      <td>Automático</td>\n",
       "      <td>Blanco</td>\n",
       "      <td>16</td>\n",
       "      <td>True</td>\n",
       "      <td>I Cars</td>\n",
       "      <td>Valencia</td>\n",
       "      <td>2021-01-11 22:12:42</td>\n",
       "      <td>2021-01-15 00:00:00</td>\n",
       "    </tr>\n",
       "    <tr>\n",
       "      <th>49755</th>\n",
       "      <td>HYUNDAI</td>\n",
       "      <td>Kona</td>\n",
       "      <td>HYUNDAI Kona EV 150kW Klass 5p.</td>\n",
       "      <td>36300</td>\n",
       "      <td>32200.0</td>\n",
       "      <td>Eléctrico</td>\n",
       "      <td>2020.0</td>\n",
       "      <td>10</td>\n",
       "      <td>204.0</td>\n",
       "      <td>5</td>\n",
       "      <td>Automático</td>\n",
       "      <td>Blanco (Tapicería de tela Negra)</td>\n",
       "      <td>40</td>\n",
       "      <td>True</td>\n",
       "      <td>Automoviles Sanchez</td>\n",
       "      <td>Zaragoza</td>\n",
       "      <td>2021-01-11 18:41:49</td>\n",
       "      <td>2021-01-15 00:00:00</td>\n",
       "    </tr>\n",
       "  </tbody>\n",
       "</table>\n",
       "<p>558 rows × 18 columns</p>\n",
       "</div>"
      ],
      "text/plain": [
       "          make                   model  \\\n",
       "73         BMW                      i3   \n",
       "117      SMART                  fortwo   \n",
       "408    PEUGEOT                 Partner   \n",
       "532      SMART                  fortwo   \n",
       "630         DS  DS 3 Crossback E-Tense   \n",
       "...        ...                     ...   \n",
       "49033    HONDA                 Honda e   \n",
       "49412  RENAULT                     Zoe   \n",
       "49429   NISSAN                    LEAF   \n",
       "49571  CITROEN                  C-Zero   \n",
       "49755  HYUNDAI                    Kona   \n",
       "\n",
       "                                                 version  price  \\\n",
       "73                                           BMW i3  5p.  15500   \n",
       "117                   SMART fortwo 60kW81CV EQ coupe 3p.  14500   \n",
       "408           PEUGEOT Partner Furgon Confort Electric L1  23500   \n",
       "532                   SMART fortwo 60kW81CV EQ coupe 3p.  26920   \n",
       "630    DS DS 3 Crossback ETense 50 kWh Performance Li...  38102   \n",
       "...                                                  ...    ...   \n",
       "49033               HONDA Honda e Advance Llantas 16 5p.  25900   \n",
       "49412                        RENAULT Zoe Life 40 R90 5p.  19900   \n",
       "49429          NISSAN LEAF 40kWh Tekna ProPilot Park 5p.  32250   \n",
       "49571                        CITROEN CZero Seduction 5p.   8900   \n",
       "49755                    HYUNDAI Kona EV 150kW Klass 5p.  36300   \n",
       "\n",
       "       price_financed       fuel    year    kms  power  doors       shift  \\\n",
       "73            12900.0  Eléctrico  2016.0  49000  170.0      5  Automático   \n",
       "117           14500.0  Eléctrico  2019.0   2000   82.0      3  Automático   \n",
       "408           18500.0  Eléctrico  2020.0     10   67.0      3  Automático   \n",
       "532           25950.0  Eléctrico  2020.0      1   82.0      3  Automático   \n",
       "630           37402.0  Eléctrico  2021.0      1  136.0      5  Automático   \n",
       "...               ...        ...     ...    ...    ...    ...         ...   \n",
       "49033             NaN  Eléctrico  2020.0   5000  154.0      5  Automático   \n",
       "49412         18400.0  Eléctrico  2019.0   1100   92.0      5  Automático   \n",
       "49429         30250.0  Eléctrico  2019.0   2500  150.0      5  Automático   \n",
       "49571          7900.0  Eléctrico  2017.0  58250   67.0      5  Automático   \n",
       "49755         32200.0  Eléctrico  2020.0     10  204.0      5  Automático   \n",
       "\n",
       "                                  color  photos  is_professional  \\\n",
       "73                Blanco (blanco-negro)      28             True   \n",
       "117                                Rojo      21             True   \n",
       "408                              Blanco      22             True   \n",
       "532                               Negro      21             True   \n",
       "630                        Gris / Plata       4             True   \n",
       "...                                 ...     ...              ...   \n",
       "49033                            Blanco       6            False   \n",
       "49412                            Blanco      21             True   \n",
       "49429                            Blanco      26             True   \n",
       "49571                            Blanco      16             True   \n",
       "49755  Blanco (Tapicería de tela Negra)      40             True   \n",
       "\n",
       "                                                  dealer   province  \\\n",
       "73                               AUTOMOVILES YUMACAR S.L     Madrid   \n",
       "117              Automoviles 10 - Especialistas en Smart     Madrid   \n",
       "408                                    PSA Retail Orense     Orense   \n",
       "532                                          Citycar Sur     Madrid   \n",
       "630                                 MAAS EXCLUSIVAS PONT  Barcelona   \n",
       "...                                                  ...        ...   \n",
       "49033                   1fd2a8a65c9ac9cd3e64954f4f44bcf8     Madrid   \n",
       "49412                                             Vearsa   Zaragoza   \n",
       "49429  NISSAN Barbera, Granollers, Terrassa, Igualada...  Barcelona   \n",
       "49571                                             I Cars   Valencia   \n",
       "49755                                Automoviles Sanchez   Zaragoza   \n",
       "\n",
       "              publish_date          insert_date  \n",
       "73     2020-12-20 19:37:42  2021-01-15 00:00:00  \n",
       "117    2020-12-30 05:23:08  2021-01-15 00:00:00  \n",
       "408    2021-01-14 16:56:46  2021-01-15 00:00:00  \n",
       "532    2020-12-24 17:47:29  2021-01-15 00:00:00  \n",
       "630    2021-01-14 12:25:00  2021-01-15 00:00:00  \n",
       "...                    ...                  ...  \n",
       "49033  2021-01-04 23:55:43  2021-01-15 00:00:00  \n",
       "49412  2020-12-26 19:03:50  2021-01-15 00:00:00  \n",
       "49429  2021-01-10 19:45:39  2021-01-15 00:00:00  \n",
       "49571  2021-01-11 22:12:42  2021-01-15 00:00:00  \n",
       "49755  2021-01-11 18:41:49  2021-01-15 00:00:00  \n",
       "\n",
       "[558 rows x 18 columns]"
      ]
     },
     "execution_count": 5,
     "metadata": {},
     "output_type": "execute_result"
    }
   ],
   "source": [
    "# Filtrar los vehículos eléctricos\n",
    "electric_cars = df[df['fuel'] == 'Eléctrico']\n",
    "electric_cars"
   ]
  },
  {
   "cell_type": "code",
   "execution_count": 6,
   "metadata": {},
   "outputs": [
    {
     "data": {
      "text/plain": [
       "province\n",
       "Madrid         9638\n",
       "Barcelona      5856\n",
       "Valencia       3533\n",
       "Sevilla        2552\n",
       "Málaga         2303\n",
       "Alicante       2103\n",
       "Vizcaya        1392\n",
       "Murcia         1364\n",
       "Las Palmas     1136\n",
       "Zaragoza       1055\n",
       "A Coruña        993\n",
       "Pontevedra      956\n",
       "Granada         890\n",
       "Tarragona       872\n",
       "Asturias        864\n",
       "Baleares        743\n",
       "Tenerife        727\n",
       "Badajoz         722\n",
       "Toledo          705\n",
       "Girona          650\n",
       "Navarra         649\n",
       "Castellón       641\n",
       "Córdoba         616\n",
       "Cádiz           605\n",
       "Valladolid      589\n",
       "Cantabria       560\n",
       "Guipúzcoa       526\n",
       "Jaén            489\n",
       "Burgos          487\n",
       "Almería         481\n",
       "Salamanca       471\n",
       "Lleida          469\n",
       "Ciudad Real     445\n",
       "Álava           409\n",
       "Albacete        375\n",
       "Lugo            369\n",
       "Huelva          366\n",
       "León            357\n",
       "Cáceres         326\n",
       "La Rioja        302\n",
       "Orense          237\n",
       "Guadalajara     188\n",
       "Huesca          163\n",
       "Ávila           143\n",
       "Cuenca          133\n",
       "Zamora          121\n",
       "Segovia         120\n",
       "Palencia        112\n",
       "Teruel          109\n",
       "Soria            53\n",
       "Melilla          16\n",
       "Ceuta            13\n",
       "Name: count, dtype: int64"
      ]
     },
     "execution_count": 6,
     "metadata": {},
     "output_type": "execute_result"
    }
   ],
   "source": [
    "# Calcular el total de vehículos y los eléctricos por provincia\n",
    "total_by_province = df['province'].value_counts()\n",
    "total_by_province"
   ]
  },
  {
   "cell_type": "code",
   "execution_count": 7,
   "metadata": {},
   "outputs": [
    {
     "data": {
      "text/plain": [
       "province\n",
       "Madrid         150\n",
       "Barcelona       72\n",
       "Valencia        33\n",
       "Vizcaya         21\n",
       "Málaga          16\n",
       "Murcia          15\n",
       "Asturias        14\n",
       "Zaragoza        14\n",
       "Sevilla         14\n",
       "Pontevedra      13\n",
       "Alicante        13\n",
       "A Coruña        11\n",
       "Toledo          11\n",
       "Girona          10\n",
       "Álava           10\n",
       "Tarragona        9\n",
       "Burgos           9\n",
       "Las Palmas       9\n",
       "Cádiz            9\n",
       "Guipúzcoa        7\n",
       "Castellón        7\n",
       "Salamanca        6\n",
       "Cáceres          6\n",
       "Lleida           6\n",
       "Córdoba          6\n",
       "Segovia          5\n",
       "Valladolid       5\n",
       "Cantabria        5\n",
       "Baleares         5\n",
       "Zamora           5\n",
       "Orense           4\n",
       "Navarra          4\n",
       "Tenerife         3\n",
       "Badajoz          3\n",
       "Ciudad Real      3\n",
       "León             3\n",
       "Jaén             3\n",
       "Albacete         3\n",
       "Lugo             2\n",
       "Guadalajara      2\n",
       "Ávila            2\n",
       "Granada          2\n",
       "Almería          2\n",
       "Huelva           2\n",
       "La Rioja         1\n",
       "Soria            1\n",
       "Cuenca           1\n",
       "Huesca           1\n",
       "Name: count, dtype: int64"
      ]
     },
     "execution_count": 7,
     "metadata": {},
     "output_type": "execute_result"
    }
   ],
   "source": [
    "electric_by_province = electric_cars['province'].value_counts()\n",
    "electric_by_province"
   ]
  },
  {
   "cell_type": "code",
   "execution_count": 9,
   "metadata": {},
   "outputs": [
    {
     "data": {
      "text/html": [
       "<div>\n",
       "<style scoped>\n",
       "    .dataframe tbody tr th:only-of-type {\n",
       "        vertical-align: middle;\n",
       "    }\n",
       "\n",
       "    .dataframe tbody tr th {\n",
       "        vertical-align: top;\n",
       "    }\n",
       "\n",
       "    .dataframe thead th {\n",
       "        text-align: right;\n",
       "    }\n",
       "</style>\n",
       "<table border=\"1\" class=\"dataframe\">\n",
       "  <thead>\n",
       "    <tr style=\"text-align: right;\">\n",
       "      <th></th>\n",
       "      <th>Total Vehicles</th>\n",
       "      <th>Electric Vehicles</th>\n",
       "      <th>Percentage Electric</th>\n",
       "    </tr>\n",
       "    <tr>\n",
       "      <th>province</th>\n",
       "      <th></th>\n",
       "      <th></th>\n",
       "      <th></th>\n",
       "    </tr>\n",
       "  </thead>\n",
       "  <tbody>\n",
       "    <tr>\n",
       "      <th>A Coruña</th>\n",
       "      <td>993</td>\n",
       "      <td>11.0</td>\n",
       "      <td>1.107754</td>\n",
       "    </tr>\n",
       "    <tr>\n",
       "      <th>Albacete</th>\n",
       "      <td>375</td>\n",
       "      <td>3.0</td>\n",
       "      <td>0.800000</td>\n",
       "    </tr>\n",
       "    <tr>\n",
       "      <th>Alicante</th>\n",
       "      <td>2103</td>\n",
       "      <td>13.0</td>\n",
       "      <td>0.618165</td>\n",
       "    </tr>\n",
       "    <tr>\n",
       "      <th>Almería</th>\n",
       "      <td>481</td>\n",
       "      <td>2.0</td>\n",
       "      <td>0.415800</td>\n",
       "    </tr>\n",
       "    <tr>\n",
       "      <th>Asturias</th>\n",
       "      <td>864</td>\n",
       "      <td>14.0</td>\n",
       "      <td>1.620370</td>\n",
       "    </tr>\n",
       "    <tr>\n",
       "      <th>Badajoz</th>\n",
       "      <td>722</td>\n",
       "      <td>3.0</td>\n",
       "      <td>0.415512</td>\n",
       "    </tr>\n",
       "    <tr>\n",
       "      <th>Baleares</th>\n",
       "      <td>743</td>\n",
       "      <td>5.0</td>\n",
       "      <td>0.672948</td>\n",
       "    </tr>\n",
       "    <tr>\n",
       "      <th>Barcelona</th>\n",
       "      <td>5856</td>\n",
       "      <td>72.0</td>\n",
       "      <td>1.229508</td>\n",
       "    </tr>\n",
       "    <tr>\n",
       "      <th>Burgos</th>\n",
       "      <td>487</td>\n",
       "      <td>9.0</td>\n",
       "      <td>1.848049</td>\n",
       "    </tr>\n",
       "    <tr>\n",
       "      <th>Cantabria</th>\n",
       "      <td>560</td>\n",
       "      <td>5.0</td>\n",
       "      <td>0.892857</td>\n",
       "    </tr>\n",
       "    <tr>\n",
       "      <th>Castellón</th>\n",
       "      <td>641</td>\n",
       "      <td>7.0</td>\n",
       "      <td>1.092044</td>\n",
       "    </tr>\n",
       "    <tr>\n",
       "      <th>Ceuta</th>\n",
       "      <td>13</td>\n",
       "      <td>0.0</td>\n",
       "      <td>0.000000</td>\n",
       "    </tr>\n",
       "    <tr>\n",
       "      <th>Ciudad Real</th>\n",
       "      <td>445</td>\n",
       "      <td>3.0</td>\n",
       "      <td>0.674157</td>\n",
       "    </tr>\n",
       "    <tr>\n",
       "      <th>Cuenca</th>\n",
       "      <td>133</td>\n",
       "      <td>1.0</td>\n",
       "      <td>0.751880</td>\n",
       "    </tr>\n",
       "    <tr>\n",
       "      <th>Cáceres</th>\n",
       "      <td>326</td>\n",
       "      <td>6.0</td>\n",
       "      <td>1.840491</td>\n",
       "    </tr>\n",
       "    <tr>\n",
       "      <th>Cádiz</th>\n",
       "      <td>605</td>\n",
       "      <td>9.0</td>\n",
       "      <td>1.487603</td>\n",
       "    </tr>\n",
       "    <tr>\n",
       "      <th>Córdoba</th>\n",
       "      <td>616</td>\n",
       "      <td>6.0</td>\n",
       "      <td>0.974026</td>\n",
       "    </tr>\n",
       "    <tr>\n",
       "      <th>Girona</th>\n",
       "      <td>650</td>\n",
       "      <td>10.0</td>\n",
       "      <td>1.538462</td>\n",
       "    </tr>\n",
       "    <tr>\n",
       "      <th>Granada</th>\n",
       "      <td>890</td>\n",
       "      <td>2.0</td>\n",
       "      <td>0.224719</td>\n",
       "    </tr>\n",
       "    <tr>\n",
       "      <th>Guadalajara</th>\n",
       "      <td>188</td>\n",
       "      <td>2.0</td>\n",
       "      <td>1.063830</td>\n",
       "    </tr>\n",
       "    <tr>\n",
       "      <th>Guipúzcoa</th>\n",
       "      <td>526</td>\n",
       "      <td>7.0</td>\n",
       "      <td>1.330798</td>\n",
       "    </tr>\n",
       "    <tr>\n",
       "      <th>Huelva</th>\n",
       "      <td>366</td>\n",
       "      <td>2.0</td>\n",
       "      <td>0.546448</td>\n",
       "    </tr>\n",
       "    <tr>\n",
       "      <th>Huesca</th>\n",
       "      <td>163</td>\n",
       "      <td>1.0</td>\n",
       "      <td>0.613497</td>\n",
       "    </tr>\n",
       "    <tr>\n",
       "      <th>Jaén</th>\n",
       "      <td>489</td>\n",
       "      <td>3.0</td>\n",
       "      <td>0.613497</td>\n",
       "    </tr>\n",
       "    <tr>\n",
       "      <th>La Rioja</th>\n",
       "      <td>302</td>\n",
       "      <td>1.0</td>\n",
       "      <td>0.331126</td>\n",
       "    </tr>\n",
       "    <tr>\n",
       "      <th>Las Palmas</th>\n",
       "      <td>1136</td>\n",
       "      <td>9.0</td>\n",
       "      <td>0.792254</td>\n",
       "    </tr>\n",
       "    <tr>\n",
       "      <th>León</th>\n",
       "      <td>357</td>\n",
       "      <td>3.0</td>\n",
       "      <td>0.840336</td>\n",
       "    </tr>\n",
       "    <tr>\n",
       "      <th>Lleida</th>\n",
       "      <td>469</td>\n",
       "      <td>6.0</td>\n",
       "      <td>1.279318</td>\n",
       "    </tr>\n",
       "    <tr>\n",
       "      <th>Lugo</th>\n",
       "      <td>369</td>\n",
       "      <td>2.0</td>\n",
       "      <td>0.542005</td>\n",
       "    </tr>\n",
       "    <tr>\n",
       "      <th>Madrid</th>\n",
       "      <td>9638</td>\n",
       "      <td>150.0</td>\n",
       "      <td>1.556339</td>\n",
       "    </tr>\n",
       "    <tr>\n",
       "      <th>Melilla</th>\n",
       "      <td>16</td>\n",
       "      <td>0.0</td>\n",
       "      <td>0.000000</td>\n",
       "    </tr>\n",
       "    <tr>\n",
       "      <th>Murcia</th>\n",
       "      <td>1364</td>\n",
       "      <td>15.0</td>\n",
       "      <td>1.099707</td>\n",
       "    </tr>\n",
       "    <tr>\n",
       "      <th>Málaga</th>\n",
       "      <td>2303</td>\n",
       "      <td>16.0</td>\n",
       "      <td>0.694746</td>\n",
       "    </tr>\n",
       "    <tr>\n",
       "      <th>Navarra</th>\n",
       "      <td>649</td>\n",
       "      <td>4.0</td>\n",
       "      <td>0.616333</td>\n",
       "    </tr>\n",
       "    <tr>\n",
       "      <th>Orense</th>\n",
       "      <td>237</td>\n",
       "      <td>4.0</td>\n",
       "      <td>1.687764</td>\n",
       "    </tr>\n",
       "    <tr>\n",
       "      <th>Palencia</th>\n",
       "      <td>112</td>\n",
       "      <td>0.0</td>\n",
       "      <td>0.000000</td>\n",
       "    </tr>\n",
       "    <tr>\n",
       "      <th>Pontevedra</th>\n",
       "      <td>956</td>\n",
       "      <td>13.0</td>\n",
       "      <td>1.359833</td>\n",
       "    </tr>\n",
       "    <tr>\n",
       "      <th>Salamanca</th>\n",
       "      <td>471</td>\n",
       "      <td>6.0</td>\n",
       "      <td>1.273885</td>\n",
       "    </tr>\n",
       "    <tr>\n",
       "      <th>Segovia</th>\n",
       "      <td>120</td>\n",
       "      <td>5.0</td>\n",
       "      <td>4.166667</td>\n",
       "    </tr>\n",
       "    <tr>\n",
       "      <th>Sevilla</th>\n",
       "      <td>2552</td>\n",
       "      <td>14.0</td>\n",
       "      <td>0.548589</td>\n",
       "    </tr>\n",
       "    <tr>\n",
       "      <th>Soria</th>\n",
       "      <td>53</td>\n",
       "      <td>1.0</td>\n",
       "      <td>1.886792</td>\n",
       "    </tr>\n",
       "    <tr>\n",
       "      <th>Tarragona</th>\n",
       "      <td>872</td>\n",
       "      <td>9.0</td>\n",
       "      <td>1.032110</td>\n",
       "    </tr>\n",
       "    <tr>\n",
       "      <th>Tenerife</th>\n",
       "      <td>727</td>\n",
       "      <td>3.0</td>\n",
       "      <td>0.412655</td>\n",
       "    </tr>\n",
       "    <tr>\n",
       "      <th>Teruel</th>\n",
       "      <td>109</td>\n",
       "      <td>0.0</td>\n",
       "      <td>0.000000</td>\n",
       "    </tr>\n",
       "    <tr>\n",
       "      <th>Toledo</th>\n",
       "      <td>705</td>\n",
       "      <td>11.0</td>\n",
       "      <td>1.560284</td>\n",
       "    </tr>\n",
       "    <tr>\n",
       "      <th>Valencia</th>\n",
       "      <td>3533</td>\n",
       "      <td>33.0</td>\n",
       "      <td>0.934050</td>\n",
       "    </tr>\n",
       "    <tr>\n",
       "      <th>Valladolid</th>\n",
       "      <td>589</td>\n",
       "      <td>5.0</td>\n",
       "      <td>0.848896</td>\n",
       "    </tr>\n",
       "    <tr>\n",
       "      <th>Vizcaya</th>\n",
       "      <td>1392</td>\n",
       "      <td>21.0</td>\n",
       "      <td>1.508621</td>\n",
       "    </tr>\n",
       "    <tr>\n",
       "      <th>Zamora</th>\n",
       "      <td>121</td>\n",
       "      <td>5.0</td>\n",
       "      <td>4.132231</td>\n",
       "    </tr>\n",
       "    <tr>\n",
       "      <th>Zaragoza</th>\n",
       "      <td>1055</td>\n",
       "      <td>14.0</td>\n",
       "      <td>1.327014</td>\n",
       "    </tr>\n",
       "    <tr>\n",
       "      <th>Álava</th>\n",
       "      <td>409</td>\n",
       "      <td>10.0</td>\n",
       "      <td>2.444988</td>\n",
       "    </tr>\n",
       "    <tr>\n",
       "      <th>Ávila</th>\n",
       "      <td>143</td>\n",
       "      <td>2.0</td>\n",
       "      <td>1.398601</td>\n",
       "    </tr>\n",
       "  </tbody>\n",
       "</table>\n",
       "</div>"
      ],
      "text/plain": [
       "             Total Vehicles  Electric Vehicles  Percentage Electric\n",
       "province                                                           \n",
       "A Coruña                993               11.0             1.107754\n",
       "Albacete                375                3.0             0.800000\n",
       "Alicante               2103               13.0             0.618165\n",
       "Almería                 481                2.0             0.415800\n",
       "Asturias                864               14.0             1.620370\n",
       "Badajoz                 722                3.0             0.415512\n",
       "Baleares                743                5.0             0.672948\n",
       "Barcelona              5856               72.0             1.229508\n",
       "Burgos                  487                9.0             1.848049\n",
       "Cantabria               560                5.0             0.892857\n",
       "Castellón               641                7.0             1.092044\n",
       "Ceuta                    13                0.0             0.000000\n",
       "Ciudad Real             445                3.0             0.674157\n",
       "Cuenca                  133                1.0             0.751880\n",
       "Cáceres                 326                6.0             1.840491\n",
       "Cádiz                   605                9.0             1.487603\n",
       "Córdoba                 616                6.0             0.974026\n",
       "Girona                  650               10.0             1.538462\n",
       "Granada                 890                2.0             0.224719\n",
       "Guadalajara             188                2.0             1.063830\n",
       "Guipúzcoa               526                7.0             1.330798\n",
       "Huelva                  366                2.0             0.546448\n",
       "Huesca                  163                1.0             0.613497\n",
       "Jaén                    489                3.0             0.613497\n",
       "La Rioja                302                1.0             0.331126\n",
       "Las Palmas             1136                9.0             0.792254\n",
       "León                    357                3.0             0.840336\n",
       "Lleida                  469                6.0             1.279318\n",
       "Lugo                    369                2.0             0.542005\n",
       "Madrid                 9638              150.0             1.556339\n",
       "Melilla                  16                0.0             0.000000\n",
       "Murcia                 1364               15.0             1.099707\n",
       "Málaga                 2303               16.0             0.694746\n",
       "Navarra                 649                4.0             0.616333\n",
       "Orense                  237                4.0             1.687764\n",
       "Palencia                112                0.0             0.000000\n",
       "Pontevedra              956               13.0             1.359833\n",
       "Salamanca               471                6.0             1.273885\n",
       "Segovia                 120                5.0             4.166667\n",
       "Sevilla                2552               14.0             0.548589\n",
       "Soria                    53                1.0             1.886792\n",
       "Tarragona               872                9.0             1.032110\n",
       "Tenerife                727                3.0             0.412655\n",
       "Teruel                  109                0.0             0.000000\n",
       "Toledo                  705               11.0             1.560284\n",
       "Valencia               3533               33.0             0.934050\n",
       "Valladolid              589                5.0             0.848896\n",
       "Vizcaya                1392               21.0             1.508621\n",
       "Zamora                  121                5.0             4.132231\n",
       "Zaragoza               1055               14.0             1.327014\n",
       "Álava                   409               10.0             2.444988\n",
       "Ávila                   143                2.0             1.398601"
      ]
     },
     "execution_count": 9,
     "metadata": {},
     "output_type": "execute_result"
    }
   ],
   "source": [
    "# Crear el DataFrame con los datos procesados\n",
    "province_analysis = pd.DataFrame({\n",
    "    'Total Vehicles': total_by_province,\n",
    "    'Electric Vehicles': electric_by_province,\n",
    "    'Percentage Electric': electric_by_province / total_by_province\n",
    "    \n",
    "})\n",
    "\n",
    "# Rellenar valores faltantes y calcular el porcentaje\n",
    "province_analysis['Electric Vehicles'] = province_analysis['Electric Vehicles'].fillna(0)\n",
    "province_analysis['Percentage Electric'] = (\n",
    "    province_analysis['Electric Vehicles'] / province_analysis['Total Vehicles'] * 100\n",
    ")\n",
    "\n",
    "province_analysis"
   ]
  },
  {
   "cell_type": "code",
   "execution_count": 20,
   "metadata": {},
   "outputs": [
    {
     "data": {
      "text/html": [
       "<div>\n",
       "<style scoped>\n",
       "    .dataframe tbody tr th:only-of-type {\n",
       "        vertical-align: middle;\n",
       "    }\n",
       "\n",
       "    .dataframe tbody tr th {\n",
       "        vertical-align: top;\n",
       "    }\n",
       "\n",
       "    .dataframe thead th {\n",
       "        text-align: right;\n",
       "    }\n",
       "</style>\n",
       "<table border=\"1\" class=\"dataframe\">\n",
       "  <thead>\n",
       "    <tr style=\"text-align: right;\">\n",
       "      <th></th>\n",
       "      <th>Total Vehicles</th>\n",
       "      <th>Electric Vehicles</th>\n",
       "      <th>Percentage Electric</th>\n",
       "    </tr>\n",
       "    <tr>\n",
       "      <th>province</th>\n",
       "      <th></th>\n",
       "      <th></th>\n",
       "      <th></th>\n",
       "    </tr>\n",
       "  </thead>\n",
       "  <tbody>\n",
       "    <tr>\n",
       "      <th>Segovia</th>\n",
       "      <td>120</td>\n",
       "      <td>5.0</td>\n",
       "      <td>4.166667</td>\n",
       "    </tr>\n",
       "    <tr>\n",
       "      <th>Zamora</th>\n",
       "      <td>121</td>\n",
       "      <td>5.0</td>\n",
       "      <td>4.132231</td>\n",
       "    </tr>\n",
       "    <tr>\n",
       "      <th>Álava</th>\n",
       "      <td>409</td>\n",
       "      <td>10.0</td>\n",
       "      <td>2.444988</td>\n",
       "    </tr>\n",
       "    <tr>\n",
       "      <th>Soria</th>\n",
       "      <td>53</td>\n",
       "      <td>1.0</td>\n",
       "      <td>1.886792</td>\n",
       "    </tr>\n",
       "    <tr>\n",
       "      <th>Burgos</th>\n",
       "      <td>487</td>\n",
       "      <td>9.0</td>\n",
       "      <td>1.848049</td>\n",
       "    </tr>\n",
       "    <tr>\n",
       "      <th>Cáceres</th>\n",
       "      <td>326</td>\n",
       "      <td>6.0</td>\n",
       "      <td>1.840491</td>\n",
       "    </tr>\n",
       "    <tr>\n",
       "      <th>Orense</th>\n",
       "      <td>237</td>\n",
       "      <td>4.0</td>\n",
       "      <td>1.687764</td>\n",
       "    </tr>\n",
       "    <tr>\n",
       "      <th>Asturias</th>\n",
       "      <td>864</td>\n",
       "      <td>14.0</td>\n",
       "      <td>1.620370</td>\n",
       "    </tr>\n",
       "    <tr>\n",
       "      <th>Toledo</th>\n",
       "      <td>705</td>\n",
       "      <td>11.0</td>\n",
       "      <td>1.560284</td>\n",
       "    </tr>\n",
       "    <tr>\n",
       "      <th>Madrid</th>\n",
       "      <td>9638</td>\n",
       "      <td>150.0</td>\n",
       "      <td>1.556339</td>\n",
       "    </tr>\n",
       "  </tbody>\n",
       "</table>\n",
       "</div>"
      ],
      "text/plain": [
       "          Total Vehicles  Electric Vehicles  Percentage Electric\n",
       "province                                                        \n",
       "Segovia              120                5.0             4.166667\n",
       "Zamora               121                5.0             4.132231\n",
       "Álava                409               10.0             2.444988\n",
       "Soria                 53                1.0             1.886792\n",
       "Burgos               487                9.0             1.848049\n",
       "Cáceres              326                6.0             1.840491\n",
       "Orense               237                4.0             1.687764\n",
       "Asturias             864               14.0             1.620370\n",
       "Toledo               705               11.0             1.560284\n",
       "Madrid              9638              150.0             1.556339"
      ]
     },
     "execution_count": 20,
     "metadata": {},
     "output_type": "execute_result"
    }
   ],
   "source": [
    "# Top 10 Provincias con mayor Porcentaje de Vehículos Eléctricos \n",
    "top_provinces = province_analysis.sort_values('Percentage Electric', ascending=False).head(10)\n",
    "top_provinces"
   ]
  },
  {
   "cell_type": "code",
   "execution_count": null,
   "metadata": {},
   "outputs": [
    {
     "data": {
      "image/png": "[encoded data removed]",
      "text/plain": [
       "<Figure size 1000x600 with 1 Axes>"
      ]
     },
     "metadata": {},
     "output_type": "display_data"
    }
   ],
   "source": [
    "# Grafico de Barras\n",
    "plt.figure(figsize=(10, 6))\n",
    "plt.barh(top_provinces.index, top_provinces['Percentage Electric'], color='skyblue')\n",
    "plt.xlabel('Porcentaje de Vehiculos Electricos (%)')\n",
    "plt.ylabel('Province')\n",
    "plt.title(' Las 10 Provincias con mayor Porcentaje de Vehículos Eléctricos')\n",
    "plt.gca().invert_yaxis()  # Invert eje y para mejor legibilidad\n",
    "plt.tight_layout()\n",
    "plt.show()"
   ]
  },
  {
   "cell_type": "markdown",
   "metadata": {},
   "source": [
    "Como se puede observar el porcentaje de vehiculos electricos por provincia es sumamente pequeño lo cual estaria indicando que España al menos hasta donde esta recogida la data no tenia una buena adopcion de compra de coches electricos de segunda mano. "
   ]
  },
  {
   "cell_type": "markdown",
   "metadata": {},
   "source": [
    "## Distribución de Vehículos Eléctricos "
   ]
  },
  {
   "cell_type": "markdown",
   "metadata": {},
   "source": [
    "Para complementar lo mencionado anteriormente, es igualmente relevante analizar la distribución de coches eléctricos en las 10 provincias con el mayor porcentaje de vehículos eléctricos de segunda mano comprados."
   ]
  },
  {
   "cell_type": "code",
   "execution_count": 21,
   "metadata": {},
   "outputs": [
    {
     "data": {
      "image/png": "[encoded data removed]",
      "text/plain": [
       "<Figure size 800x800 with 1 Axes>"
      ]
     },
     "metadata": {},
     "output_type": "display_data"
    }
   ],
   "source": [
    "plt.figure(figsize=(8, 8))\n",
    "plt.pie(\n",
    "    top_provinces['Electric Vehicles'],\n",
    "    labels=top_provinces.index,\n",
    "    autopct='%1.1f%%',\n",
    "    startangle=140,\n",
    "    colors=plt.cm.Paired.colors\n",
    ")\n",
    "plt.title('Distribución de Vehículos Eléctricos (Top 10 Provincias)')\n",
    "plt.tight_layout()\n",
    "plt.show()"
   ]
  },
  {
   "cell_type": "markdown",
   "metadata": {},
   "source": [
    "Como se puede observar en el gráfico anterior, Madrid destaca en comparación con el resto por tener el mayor porcentaje basado en la cantidad de coches eléctricos vendidos. Sin embargo, en el apartado anterior se señaló que no era una de las provincias con el mayor porcentaje de vehículos eléctricos en relación con el total de coches por provincia."
   ]
  }
 ],
 "metadata": {
  "kernelspec": {
   "display_name": "Python 3",
   "language": "python",
   "name": "python3"
  },
  "language_info": {
   "codemirror_mode": {
    "name": "ipython",
    "version": 3
   },
   "file_extension": ".py",
   "mimetype": "text/x-python",
   "name": "python",
   "nbconvert_exporter": "python",
   "pygments_lexer": "ipython3",
   "version": "3.12.5"
  }
 },
 "nbformat": 4,
 "nbformat_minor": 2
}
